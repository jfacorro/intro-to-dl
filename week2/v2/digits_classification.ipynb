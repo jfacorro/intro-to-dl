{
 "cells": [
  {
   "cell_type": "markdown",
   "metadata": {
    "slideshow": {
     "slide_type": "slide"
    }
   },
   "source": [
    "# MNIST digits classification with TensorFlow"
   ]
  },
  {
   "cell_type": "markdown",
   "metadata": {},
   "source": [
    "<img src=\"images/mnist_sample.png\" style=\"width:30%\">"
   ]
  },
  {
   "cell_type": "code",
   "execution_count": 1,
   "metadata": {},
   "outputs": [
    {
     "name": "stdout",
     "output_type": "stream",
     "text": [
      "We're using TF 1.2.1\n"
     ]
    },
    {
     "name": "stderr",
     "output_type": "stream",
     "text": [
      "Using TensorFlow backend.\n"
     ]
    }
   ],
   "source": [
    "import numpy as np\n",
    "from sklearn.metrics import accuracy_score\n",
    "from matplotlib import pyplot as plt\n",
    "%matplotlib inline\n",
    "import tensorflow as tf\n",
    "print(\"We're using TF\", tf.__version__)\n",
    "\n",
    "import sys\n",
    "sys.path.append(\"../..\")\n",
    "import grading\n",
    "\n",
    "import matplotlib_utils\n",
    "from importlib import reload\n",
    "reload(matplotlib_utils)\n",
    "\n",
    "import grading_utils\n",
    "reload(grading_utils)\n",
    "\n",
    "import keras_utils\n",
    "from keras_utils import reset_tf_session"
   ]
  },
  {
   "cell_type": "markdown",
   "metadata": {},
   "source": [
    "# Fill in your Coursera token and email\n",
    "To successfully submit your answers to our grader, please fill in your Coursera submission token and email"
   ]
  },
  {
   "cell_type": "code",
   "execution_count": 2,
   "metadata": {},
   "outputs": [],
   "source": [
    "grader = grading.Grader(assignment_key=\"XtD7ho3TEeiHQBLWejjYAA\", \n",
    "                        all_parts=[\"9XaAS\", \"vmogZ\", \"RMv95\", \"i8bgs\", \"rE763\"])"
   ]
  },
  {
   "cell_type": "code",
   "execution_count": 14,
   "metadata": {},
   "outputs": [],
   "source": [
    "# token expires every 30 min\n",
    "COURSERA_TOKEN = \"iVRqkRdDFOCCwClK\"\n",
    "COURSERA_EMAIL = \"juan.facorro@gmail.com\""
   ]
  },
  {
   "cell_type": "markdown",
   "metadata": {},
   "source": [
    "# Look at the data\n",
    "\n",
    "In this task we have 50000 28x28 images of digits from 0 to 9.\n",
    "We will train a classifier on this data."
   ]
  },
  {
   "cell_type": "code",
   "execution_count": 4,
   "metadata": {},
   "outputs": [],
   "source": [
    "import preprocessed_mnist\n",
    "X_train, y_train, X_val, y_val, X_test, y_test = preprocessed_mnist.load_dataset()"
   ]
  },
  {
   "cell_type": "code",
   "execution_count": 5,
   "metadata": {},
   "outputs": [
    {
     "name": "stdout",
     "output_type": "stream",
     "text": [
      "X_train [shape (50000, 28, 28)] sample patch:\n",
      " [[ 0.          0.29803922  0.96470588  0.98823529  0.43921569]\n",
      " [ 0.          0.33333333  0.98823529  0.90196078  0.09803922]\n",
      " [ 0.          0.33333333  0.98823529  0.8745098   0.        ]\n",
      " [ 0.          0.33333333  0.98823529  0.56862745  0.        ]\n",
      " [ 0.          0.3372549   0.99215686  0.88235294  0.        ]]\n",
      "A closeup of a sample patch:\n"
     ]
    },
    {
     "data": {
      "image/png": "[encoded data removed]",
      "text/plain": [
       "<matplotlib.figure.Figure at 0x7fd99cfb95c0>"
      ]
     },
     "metadata": {},
     "output_type": "display_data"
    },
    {
     "name": "stdout",
     "output_type": "stream",
     "text": [
      "And the whole sample:\n"
     ]
    },
    {
     "data": {
      "image/png": "[encoded data removed]",
      "text/plain": [
       "<matplotlib.figure.Figure at 0x7fd99af874a8>"
      ]
     },
     "metadata": {},
     "output_type": "display_data"
    },
    {
     "name": "stdout",
     "output_type": "stream",
     "text": [
      "y_train [shape (50000,)] 10 samples:\n",
      " [5 0 4 1 9 2 1 3 1 4]\n"
     ]
    }
   ],
   "source": [
    "# X contains rgb values divided by 255\n",
    "print(\"X_train [shape %s] sample patch:\\n\" % (str(X_train.shape)), X_train[1, 15:20, 5:10])\n",
    "print(\"A closeup of a sample patch:\")\n",
    "plt.imshow(X_train[1, 15:20, 5:10], cmap=\"Greys\")\n",
    "plt.show()\n",
    "print(\"And the whole sample:\")\n",
    "plt.imshow(X_train[1], cmap=\"Greys\")\n",
    "plt.show()\n",
    "print(\"y_train [shape %s] 10 samples:\\n\" % (str(y_train.shape)), y_train[:10])"
   ]
  },
  {
   "cell_type": "markdown",
   "metadata": {},
   "source": [
    "# Linear model\n",
    "\n",
    "Your task is to train a linear classifier $\\vec{x} \\rightarrow y$ with SGD using TensorFlow.\n",
    "\n",
    "You will need to calculate a logit (a linear transformation) $z_k$ for each class: \n",
    "$$z_k = \\vec{x} \\cdot \\vec{w_k} + b_k \\quad k = 0..9$$\n",
    "\n",
    "And transform logits $z_k$ to valid probabilities $p_k$ with softmax: \n",
    "$$p_k = \\frac{e^{z_k}}{\\sum_{i=0}^{9}{e^{z_i}}} \\quad k = 0..9$$\n",
    "\n",
    "We will use a cross-entropy loss to train our multi-class classifier:\n",
    "$$\\text{cross-entropy}(y, p) = -\\sum_{k=0}^{9}{\\log(p_k)[y = k]}$$ \n",
    "\n",
    "where \n",
    "$$\n",
    "[x]=\\begin{cases}\n",
    "       1, \\quad \\text{if $x$ is true} \\\\\n",
    "       0, \\quad \\text{otherwise}\n",
    "    \\end{cases}\n",
    "$$\n",
    "\n",
    "Cross-entropy minimization pushes $p_k$ close to 1 when $y = k$, which is what we want.\n",
    "\n",
    "Here's the plan:\n",
    "* Flatten the images (28x28 -> 784) with `X_train.reshape((X_train.shape[0], -1))` to simplify our linear model implementation\n",
    "* Use a matrix placeholder for flattened `X_train`\n",
    "* Convert `y_train` to one-hot encoded vectors that are needed for cross-entropy\n",
    "* Use a shared variable `W` for all weights (a column $\\vec{w_k}$ per class) and `b` for all biases.\n",
    "* Aim for ~0.93 validation accuracy"
   ]
  },
  {
   "cell_type": "code",
   "execution_count": 6,
   "metadata": {},
   "outputs": [
    {
     "name": "stdout",
     "output_type": "stream",
     "text": [
      "(50000, 784)\n",
      "(10000, 784)\n"
     ]
    }
   ],
   "source": [
    "X_train_flat = X_train.reshape((X_train.shape[0], -1))\n",
    "print(X_train_flat.shape)\n",
    "\n",
    "X_val_flat = X_val.reshape((X_val.shape[0], -1))\n",
    "print(X_val_flat.shape)"
   ]
  },
  {
   "cell_type": "code",
   "execution_count": 7,
   "metadata": {},
   "outputs": [
    {
     "name": "stdout",
     "output_type": "stream",
     "text": [
      "(50000, 10)\n",
      "[[ 0.  0.  0.  0.  0.  1.  0.  0.  0.  0.]\n",
      " [ 1.  0.  0.  0.  0.  0.  0.  0.  0.  0.]\n",
      " [ 0.  0.  0.  0.  1.  0.  0.  0.  0.  0.]] [5 0 4]\n"
     ]
    }
   ],
   "source": [
    "import keras\n",
    "\n",
    "y_train_oh = keras.utils.to_categorical(y_train, 10)\n",
    "y_val_oh = keras.utils.to_categorical(y_val, 10)\n",
    "\n",
    "print(y_train_oh.shape)\n",
    "print(y_train_oh[:3], y_train[:3])"
   ]
  },
  {
   "cell_type": "code",
   "execution_count": 16,
   "metadata": {},
   "outputs": [],
   "source": [
    "# run this again if you remake your graph\n",
    "tf.reset_default_graph()\n",
    "s = reset_tf_session()"
   ]
  },
  {
   "cell_type": "code",
   "execution_count": 17,
   "metadata": {},
   "outputs": [],
   "source": [
    "# Model parameters: W and b\n",
    "(m, n) = X_train_flat.shape\n",
    "W = tf.get_variable(\"W\", shape=(n, 10), dtype=tf.float32)\n",
    "b = tf.get_variable(\"b\", shape=(10), dtype=tf.float32)"
   ]
  },
  {
   "cell_type": "code",
   "execution_count": 18,
   "metadata": {},
   "outputs": [],
   "source": [
    "# Placeholders for the input data\n",
    "input_X = tf.placeholder('float32', name='input_X', shape=(None, n)) ### tf.placeholder(...) for flat X with shape[0] = None for any batch size\n",
    "input_y = tf.placeholder('uint8', name='input_y', shape=(None, 10)) ### tf.placeholder(...) for one-hot encoded true labels"
   ]
  },
  {
   "cell_type": "code",
   "execution_count": 19,
   "metadata": {},
   "outputs": [],
   "source": [
    "# Compute predictions\n",
    "logits = tf.matmul(input_X, W) + b ### logits for input_X, resulting shape should be [input_X.shape[0], 10]\n",
    "probas = tf.nn.softmax(logits) ### apply tf.nn.softmax to logits\n",
    "classes = tf.argmax(probas, axis=1) ### apply tf.argmax to find a class index with highest probability\n",
    "\n",
    "# Loss should be a scalar number: average loss over all the objects with tf.reduce_mean().\n",
    "# Use tf.nn.softmax_cross_entropy_with_logits on top of one-hot encoded input_y and logits.\n",
    "# It is identical to calculating cross-entropy on top of probas, but is more numerically friendly (read the docs).\n",
    "loss = tf.reduce_mean(tf.nn.softmax_cross_entropy_with_logits(labels=input_y, logits=logits)) ### cross-entropy loss\n",
    "\n",
    "# Use a default tf.train.AdamOptimizer to get an SGD step\n",
    "optimizer = tf.train.AdamOptimizer(0.005)\n",
    "# optimizer = tf.train.MomentumOptimizer(0.1, momentum=0.9)\n",
    "step = optimizer.minimize(loss) ### optimizer step that minimizes the loss"
   ]
  },
  {
   "cell_type": "code",
   "execution_count": 20,
   "metadata": {},
   "outputs": [
    {
     "data": {
      "text/plain": [
       "(255, 10)"
      ]
     },
     "execution_count": 20,
     "metadata": {},
     "output_type": "execute_result"
    }
   ],
   "source": [
    "s.run(tf.global_variables_initializer())\n",
    "logits.eval({input_X: X_train_flat[0:255], input_y: y_train_oh[0:255]}).shape"
   ]
  },
  {
   "cell_type": "code",
   "execution_count": 21,
   "metadata": {
    "scrolled": false
   },
   "outputs": [
    {
     "data": {
      "text/html": [
       "<img src=\"data:image/jpeg;base64,/9j/4AAQSkZJRgABAQAAAQABAAD/2wBDAAIBAQEBAQIBAQECAgICAgQDAgICAgUEBAMEBgUGBgYFBgYGBwkIBgcJBwYGCAsICQoKCgoKBggLDAsKDAkKCgr/2wBDAQICAgICAgUDAwUKBwYHCgoKCgoKCgoKCgoKCgoKCgoKCgoKCgoKCgoKCgoKCgoKCgoKCgoKCgoKCgoKCgoKCgr/wAARCAEgA2ADASIAAhEBAxEB/8QAHwAAAQUBAQEBAQEAAAAAAAAAAAECAwQFBgcICQoL/8QAtRAAAgEDAwIEAwUFBAQAAAF9AQIDAAQRBRIhMUEGE1FhByJxFDKBkaEII0KxwRVS0fAkM2JyggkKFhcYGRolJicoKSo0NTY3ODk6Q0RFRkdISUpTVFVWV1hZWmNkZWZnaGlqc3R1dnd4eXqDhIWGh4iJipKTlJWWl5iZmqKjpKWmp6ipqrKztLW2t7i5usLDxMXGx8jJytLT1NXW19jZ2uHi4%2BTl5ufo6erx8vP09fb3%2BPn6/8QAHwEAAwEBAQEBAQEBAQAAAAAAAAECAwQFBgcICQoL/8QAtREAAgECBAQDBAcFBAQAAQJ3AAECAxEEBSExBhJBUQdhcRMiMoEIFEKRobHBCSMzUvAVYnLRChYkNOEl8RcYGRomJygpKjU2Nzg5OkNERUZHSElKU1RVVldYWVpjZGVmZ2hpanN0dXZ3eHl6goOEhYaHiImKkpOUlZaXmJmaoqOkpaanqKmqsrO0tba3uLm6wsPExcbHyMnK0tPU1dbX2Nna4uPk5ebn6Onq8vP09fb3%2BPn6/9oADAMBAAIRAxEAPwD9/KKKKACiiigAooooAKKKKACiiigAooooAKKKKACiiigAooooAKKKKACiiigAooooAKKKKACiiigAooooAKKKKACiiigAooooAKKKKACiiigAooooAKKKKACiiigAooooAKKKKACiiigAooooAKKKKACiiigAooooAKKKKACiiigAooooAKKKKACiiigAooooAKKKKACiiigAooooAKKKKACiiigAooooAKKKKACiiigAooooAKKKKACiiigAooooAKKKKACiiigAooooAKKKKACiiigAooooAKKKKACiiigAooooAKKKKACiiigAooooAKKKKACiiigAooooAKKKKACiiigAooooAKKKKACvPfjt%2B1J8FP2b5NGsfil4g1Maj4ilnTQNB8OeF9R1zVNR8lVed4bHTbee5kjiVkMkixlI96biu5c%2BhV4N%2B0P8D/j5/wANJ%2BDv2tv2bLLwfrWueH/B2seFNX8KeOdcutLtLywv7mwuxcQXtraXj288U2noCpt3WVJSCUKK1ABpf/BTL9izWLvxPb2nxXv0h8FWsk/jLUrvwXrEFjoIS0iu9l5dy2iwWsrQzRskMjrJIWKorMrKL2n/APBQ/wDZK1HwBrXxFTx/q9vB4f1ay0vVdE1DwNrNrrkV5ebfscC6PNaLqEr3AYGER27eaAxTcFYjy2b9gH4y%2BMf2a/jn8NfGHinwppHin4o/FS38daHc6U1xeWFpeW0OiywQ3IkihkkiN3pRRwoyYHGDuJVaPi79i/8AaV%2BLmr/Ef45fG34S/CjWvFnjWx8KaPp/gKy%2BI2s2Wm6fY6Hcaldw3qa7b6al5DqDXOqTOksVoPJSKNFZiWcgHsviH9vv9mzwv4a8OeI9XvvG3meK0v5NE8P2vwm8SXGuSRWUscV3NJpMWntf28MLzQq8s0CIpmiy37xM%2Bmaz8RPBHhv4e3XxX8T%2BJbbSvDljo76rf6vqrfZYbSySIzPPMZdvlKsYLNvxtAOcYNfGHin9hH9s/WPgX4X8Nay3hfxV470a58RHRfGV/wDHbxNpGr%2BCLW%2BuUktLO11q1sJLzXIYkjhEy3qw/aTbReYCFGPUfjR/wTotfj1%2Bzb4n%2BHHxD%2BOfjW78d%2BMPhfH4Z17xS3jbWho818tpDE2oJoS3y2FuzzQLK3kRRSEPIBIrSM5AOkg/4KUfsZf8K58V/FbWPite6Jo3giysr7xQ/ifwdq%2Bk3NlZXkxhtb37LeWsVxJaSyK6pcxxtC3luQ%2BEYjj/AI3f8FZP2d/hn8ENU%2BMfgPRfFXiqbQfiD4X8L674Y/4QXXbHU7A6zqVrax3T2cmnNdeV5Fw88DeT5d48aW8MhknjB8r1T/gmJ8ZPHfwq8faR4i8DeG9G8Y%2BI9D0fR7DxDqv7RfjPxut3aWusW%2BoTRyf27AfsEZ8likUSzHe%2BGkxknv8A9qH9gz40/GD4g/F/4g%2BBfEPheOTxfB8LbzwlZ6tfXMSvf%2BE/EdzrUsN40dvJ5ENwGt4VljEzrl2MfyKrgHqFh/wUE/Zb1H4m2XwZh8T%2BJo/Fd5oun6xLoF38N9egudO0%2B9adILu/SSyU6dDut5VeS68pYiFEhQum6j4a/wCCmH7FPi3wZ4s%2BIWkfGC4TR/Bfgi68Zaxe6h4S1W0Fx4et0Z5tWsVntUbVLNVQ4nsxPGxZArEugbB0P9kP4ofEP4mfG74g/G9fD2gxfGj4O%2BHfCF1Y%2BE9duNRl0u4tE11Ltlnns7XzYwNViMT7FZikm6OPA3fN37Y37Kn7UOj/ALDHxS%2BJv7TF34AtIfhD%2BxT8QfBHhePwFqF5cNrzXukWxn1G6W5toBYqE0i3CWcbXAVppCZ22oKAPrPw9/wUl/Yy8TaHrHiPT/i1dQWehppU1/JqnhLVbJmtNSu1s7HUIUuLVGubCWdgovoQ9qoDO0qorMPT9E%2BLvw88R/FLX/gvofiH7T4k8LaXp%2Boa/YR2k22zgvmuBa7pinlF3%2ByzHy1cyKoRmVVkjLfJOofsz%2BIPFegeKfjb/wAFIvF/wz8J%2BBbf9nu5%2BHUlx4f8QTLay6beyQyXmq3k17BbpYOTBbCG2QzCAmT/AEiQsuOw/wCCPngP4u2f7I9r8f8A9pDUDf8AxJ%2BL15H4n8V6g9nJbtJCLSCy01fKl%2BeH/iX2lpI0TYKSzTZAYtkA%2BqqKKKACiiigAooooAKKKKACiiigAooooAKKKKACiiigAooooAKKKKACiiigAooooAKKKKACiiigAooooAKKKKACiiigAooooAK8R0j/AIKMfse6ld69Z6n8Urzw83hzw5c%2BINQk8a%2BEdV0GObSbd0jnv7WTUrWBb63R5IlaW2MqAyxjOXXPtN7FczWcsNndCCZ4mWKYx7/LYjhtp64POO9fmJq//BHL9uX4v6t4X1z43fHHQ31vw14P1Cz1DxRqHxW8TeJx4h1v7ZpV9a6idLvoobLSbaS50xfPsLIBRHJtWWQKgUA%2B2X/b/wD2YbX4aN8WNY8QeKtK0ttcg0axs9c%2BGWv2GqanfzIZIYLLTbixS9v2kQM6/Z4ZAyo7AkIxHReA/wBqz4H/ABH1%2By8J%2BHPEOqQ6vf8AhSfxJDpGteFdS0y7TTYbv7JLLLDeW8UkDrP8hhkVZe%2BzbzXk3xO%2BDn7bvxib4e/G3XPBvwq0P4h/Cjx1NrHh/wAM2vjjUr/Rdcs7jSbvTLmO4vn0qGaxmKXskkbpa3AjMQU%2BYJGxV%2BJPwG/bg1/4y%2BHf2mvA%2BjfCu08WX3ww1XwX4x0LUvFepSWGkLcX8N1a39lcJpwk1AxCN1kt5YrQSlxiWLHIB3Gk/wDBRv8AZA8R694F8LeFfiNqus6n8SfBuleLfBunaJ4H1m9nvND1F9lrqMiQWjNa2%2B7HmSTiNbcMpm8oMCdj4a/tufs3fFf4jXPwn8M%2BL9Ws9ft9LudThsvE/gzVtEW/sbeRI57uyl1G1gjv4I3liDy2zSIvmISQGUnyj9hT9hL4sfsw6/8ADjWfHniDw1dnwd%2Byl4R%2BGN%2B%2BkXM8rNq2lvM1zNF5kEe61bemxmKu235o0wK8a%2BGn/BKv9sbxP8UfC/ib9qb4w2eqRaf4A8V%2BF/GniaD4v%2BJNavPEUur2KW39p2umX0Men6EcqWNpaKUXKgTOI1WgD6l8J/8ABRf9kfxrosfirQfHeuf2Hcarpen6f4lvfh/rdrpWoy6lex2VlJaX09mlteQS3M0UYuIJHhBlQs4VgT6X4W%2BLvw88a/EDxT8LvC/iH7XrnguSzj8T2iWkwWxkuoPtEEZlZBG7tCVkKIzMiyRlgokTd8w%2BOPAnxF8K/wDBPbxp8CP%2BChnif4VeCPAWg/DSLQLb4meHfFt2GadI0trXUntLqzgTTZlmFvJDBHcXTGcoiOTtDdr/AMEr/h98WPDf7ImlfFX9oqwS3%2BJ3xYvpfHXxEhW3aL7Pf36xmG02N8yfZbGOys9pyQLXBoA%2BjaKKKACiiigAooooAKKKKACiiigAooooAKKKKACiiigAooooAKKKKACiiigAooooAKKKKACiiigAooooAKKKKACiiigArN8Y%2BID4S8Iar4qFi91/Zmmz3f2aM4aby42fYOvJ24/GtKggEYIoA%2BUf2FfjX8fvEXjnwx4b%2BM/xik8bR/EP4GaT8QY3fR7G0j0G%2BmmVbiztfskMZeyYXMPki4M06/ZpC00u/wCTyv4Uftf/ALVvx8%2BBnjvxV4C8SfEfTvij8QfhB4w1z4FeFNX8OeG4PD5vrNvJtBp8hja6ae2mnsY5P7UkWG4aaSaOIwj939W/B/8AYq/Zy%2BAd/JqXwl8I6rpErm0RNvjDVZlt7W18/wCzafCs1y6wafEbmcpYRhbVDISIgQCItG/Yc/Zr8O%2BINb8U6B4S1mxv9dsb%2BzkuLTxvq8f9mQXtwlzeJpgW6A0gTTxxyyGxEBd40Y5KKQAVP2M/iXe%2BMvDvifwX4t8W/Ea/8VeE/EYs/Emn/FOw0KDVdNeW1guIYwdBiSxmgaGVJUkjMhzI6M%2B5Cic38UP2jfjP4x/a20L9lT9m7xDpfhm4Xwf4h1rxPrPxD%2BDuu3lrM9jd6LbwRWExu9OguVI1KZpJIZbgL5cYOzdlvV/gx8Avhd8ANK1LSvhnpF/E2tamdQ1rUta1%2B91bUNRuvKjhEtxeX001xOyxQxRLvkbYkaIuFUAee/ETWVs/%2BClXwh0Z1GL34J/ENlbvuTVvBpx%2BTMfwpNpblQhKo7R7N/dqy9/wg/8AwUL/AOjoPgz/AOGH1b/5qKP%2BEH/4KF/9HQfBn/ww%2Brf/ADUV7NRTJPGf%2BEH/AOChf/R0HwZ/8MPq3/zUUf8ACD/8FC/%2BjoPgz/4YfVv/AJqK9mooA8Z/4Qf/AIKF/wDR0HwZ/wDDD6t/81FH/CD/APBQv/o6D4M/%2BGH1b/5qK9mooA8Z/wCEH/4KF/8AR0HwZ/8ADD6t/wDNRR/wg/8AwUL/AOjoPgz/AOGH1b/5qK9mooA8Z/4Qf/goX/0dB8Gf/DD6t/8ANRR/wg//AAUL/wCjoPgz/wCGH1b/AOaivZqKAPGf%2BEH/AOChf/R0HwZ/8MPq3/zUUf8ACD/8FC/%2BjoPgz/4YfVv/AJqK9mooA8Z/4Qf/AIKF/wDR0HwZ/wDDD6t/81FH/CD/APBQv/o6D4M/%2BGH1b/5qK9mooA8Z/wCEH/4KF/8AR0HwZ/8ADD6t/wDNRR/wg/8AwUL/AOjoPgz/AOGH1b/5qKta/wDG/wDZE%2BFNppGk/HT4w/Dnw5rmoaLBqBtvF3iGwtLu4jkyPP23Dq7IzpIA3TKMM8EDN/4a/wD%2BCcH/AEdF8Ef/AAttH/8Ajtc08Zg6cnGdWKa6OUU/uckz2sPw3xJi6Ea1DA15wkrqUaNaUWu6lGjKLWj1Ta03LH/CD/8ABQv/AKOg%2BDP/AIYfVv8A5qKP%2BEH/AOChf/R0HwZ/8MPq3/zUVX/4a/8A%2BCcH/R0XwR/8LbR//jtenaBovws8V6FZeKfC2k%2BH9S0zUrSO607UdPggmguoJFDxyxyICroykMrKSCCCDg1dLE4eu2qc4yt2kn%2BTZz47Js5yuEZ43C1aSk7J1KdSmm97JzpwTdtbJt21tbU85/4Qf/goX/0dB8Gf/DD6t/8ANRR/wg//AAUL/wCjoPgz/wCGH1b/AOaivPPh9/wUa/Yv8X%2BB7Pxh4h%2BHvifQZ9U8ca14W0TRrn4Pa3Peate6dcX8ci2kUOns90TDp887LErmEAxybJFZR2XxC/ao/Za8C2Xj20vNEi0/WPAXhDWvEN5beLPAmraTZ3dnpi/6XPb3UmnOL23iZohJLZJdFRNGwR96K%2Bx5po/8IP8A8FC/%2BjoPgz/4YfVv/moo/wCEH/4KF/8AR0HwZ/8ADD6t/wDNRVWw/as/Yw1D4zyfs/Q3lv8A8JRb%2BII9Buo/%2BEGvxYQ6q%2BnR6lHYtqDWgtFne0lSZIzKGcHCgsCo2fjX8Vfgr8JP2edd/aH0fwjo3ijTtLsGk0230NbaQardNKIILWKYAoGkuGSHcTtVmJboaAKH/CD/APBQv/o6D4M/%2BGH1b/5qKP8AhB/%2BChf/AEdB8Gf/AAw%2Brf8AzUU/9nD4gW3xcvPGXgf4o/Arw34V8YeA/EEOma/pWj6iuq2Miz2Nte29zbXUlpbPLG8VyqnfBGyyxSrhlCu/IeFPjh8Q7jx94q%2BDHxF/ZV%2BHOheMdH8B2/ivSILbx%2BbvS5LSW5ntxHqF4dJjfT5A0DnKQXEbKkhR38thQB1n/CD/APBQv/o6D4M/%2BGH1b/5qKP8AhB/%2BChf/AEdB8Gf/AAw%2Brf8AzUV4Bqv/AAU28CWfwf8ADXxJs/hD8GkXxB8aLn4fDxPqnxZjtfBbmHQb3WDqNrr39lP9rgJszY4%2BzR/6X5sW791l/Sv2k/2n7X9mm08Ca54i%2BDnwo1Cz8YPp1qNMtfiGF1rUb%2B4nhilt9CsW0vGtCMTJIG822Z0OSiUAdr/wg/8AwUL/AOjoPgz/AOGH1b/5qKP%2BEH/4KF/9HQfBn/ww%2Brf/ADUVyWr/ALTWi%2BFv2vbf9lfxH8Hfhxdy6lp1/fWC%2BGPGi6hrdhaW9sZ0vNV0ttPi/s%2B1lK%2BSk4nmBmlhTB8wlcn9jj9qDxF%2B2n%2By5H%2B0B8Lfgh8C7zVdR0zS7zSvDmi/F99RhtXuYY55rTU7qHRN2n3UMcg/dLDPucFSYx81AHof/CD/APBQv/o6D4M/%2BGH1b/5qKP8AhB/%2BChf/AEdB8Gf/AAw%2Brf8AzUV4%2Bn7bWtWv7Is/7WPi79n34JeFtOs/Fet6VPJ4t%2BMDafpt3b2F5PZxXNneyaJm4a6ltpTDE8MW6MxsHO8AdJ8Tv2jviN4OtfhV4s8MfsbeDrrQfiprnh3SrCw8Q%2BLZtM8RWM%2Bop59ysmnLpE0RaytEubiRTdKStpKPlIGQDvP%2BEH/4KF/9HQfBn/ww%2Brf/ADUUf8IP/wAFC/8Ao6D4M/8Ahh9W/wDmorhvEX7bXwT8MftKeLfhBqvwbsF8HeCfhpr3ijXfiGvlNGLnRpNP/tCwhthDmUQxalAWnEmBMksGzfFJt57T/wBvfwFa/s36t%2B0J4u%2BF/wAIY1TXdN0bRNK8PfFSz1JLe/vJFT7PrV0LGOHSJLdXEtztN0scccrI0pVVcA9a/wCEH/4KF/8AR0HwZ/8ADD6t/wDNRR/wg/8AwUL/AOjoPgz/AOGH1b/5qK8S%2BP8A/wAFEPCP7Pvwl8DfEPxF8J/gtcv4z0TXtVi1eL4tRr4YnXTnhEdjp%2BrnSj/aGo3aTh7e0%2Bzxb/s12A/7nL%2Braf8AGe/l/ae8E/BHW/2W9G0rw9478Aah4h0vX77VEXU7W5s/7P8APsbjThabY8f2gg8wXJO6Jx5eMNQBr/8ACD/8FC/%2BjoPgz/4YfVv/AJqKP%2BEH/wCChf8A0dB8Gf8Aww%2Brf/NRXP6H8YfHUPx5uP2e/iF%2Byj4L0/WdT8Dax4n8FNonjAX63kFhd2dsYNQ36dB/Z0sr39uUKfakIS4%2BfMOHzvBP7RmpeL/2QL79pDV/gR8KvCusaF4u8RaF4n03xh8RfsOg6b/Y%2Bu3%2Bj3FwdYOlMxjZ7EyJvtU4lCsVxuIB2P8Awg//AAUL/wCjoPgz/wCGH1b/AOaiqHgfxx%2B1Z4O/as8OfBH43fEf4e%2BJtG8TfD3xDrkM3hX4eX2i3VpdabfaJborPcavfJLG6apKSoRGDRIQ2Mg6HwD%2BJnhL9on9ljTf2htG%2BGln4fl1fSLq6tI7YpKqtDJLGlzbXKxxme2l8oTQT7E82GSKTau/aE8cf8pC/hf/ANkZ8ef%2BnbwhQB7NRRRQAUUUUAFFFFABXzj8JvFX7d/x10fXvHfhf43/AAk0DS7f4heKtD0vSr/4P6pf3EVrpevX%2BmQtLcJ4igWWR47NXZlijXc5AUACvo6vGf2D/wDkiGuf9lm%2BI/8A6mut0AH/AAg//BQv/o6D4M/%2BGH1b/wCaij/hB/8AgoX/ANHQfBn/AMMPq3/zUV7NRQB4z/wg/wDwUL/6Og%2BDP/hh9W/%2Baij/AIQf/goX/wBHQfBn/wAMPq3/AM1FezUUAeM/8IP/AMFC/wDo6D4M/wDhh9W/%2Baij/hB/%2BChf/R0HwZ/8MPq3/wA1FezUUAeM/wDCD/8ABQv/AKOg%2BDP/AIYfVv8A5qKP%2BEH/AOChf/R0HwZ/8MPq3/zUV7NRQB4z/wAIP/wUL/6Og%2BDP/hh9W/8Amoo/4Qf/AIKF/wDR0HwZ/wDDD6t/81FezUUAeM/8IP8A8FC/%2BjoPgz/4YfVv/moo/wCEH/4KF/8AR0HwZ/8ADD6t/wDNRXs1FAHjP/CD/wDBQv8A6Og%2BDP8A4YfVv/moo/4Qf/goX/0dB8Gf/DD6t/8ANRXs1FAHjP8Awg//AAUL/wCjoPgz/wCGH1b/AOaij/hB/wDgoX/0dB8Gf/DD6t/81FezUUAeM/8ACD/8FC/%2BjoPgz/4YfVv/AJqKP%2BEH/wCChf8A0dB8Gf8Aww%2Brf/NRXs1FAHjP/CD/APBQv/o6D4M/%2BGH1b/5qKP8AhB/%2BChf/AEdB8Gf/AAw%2Brf8AzUV7NRQB4z/wg/8AwUL/AOjoPgz/AOGH1b/5qKP%2BEH/4KF/9HQfBn/ww%2Brf/ADUV7NRQB4z/AMIP/wAFC/8Ao6D4M/8Ahh9W/wDmoo/4Qf8A4KF/9HQfBn/ww%2Brf/NRXs1FAHjP/AAg//BQv/o6D4M/%2BGH1b/wCaij/hB/8AgoX/ANHQfBn/AMMPq3/zUV7NRQB4z/wg/wDwUL/6Og%2BDP/hh9W/%2Baij/AIQf/goX/wBHQfBn/wAMPq3/AM1FezUUAeM/8IP/AMFC/wDo6D4M/wDhh9W/%2Baij/hB/%2BChf/R0HwZ/8MPq3/wA1FezUUAeM/wDCD/8ABQv/AKOg%2BDP/AIYfVv8A5qKP%2BEH/AOChf/R0HwZ/8MPq3/zUV69qWr6To0H2rV9Tt7SIdZLmdY1/NiK5HWv2lf2cvDZYeIvj/wCCbAr94Xviqzix9d0grOdWlT%2BOSXq0vzaOvDZfj8a7YejOp/hhOX/pMZHH/wDCD/8ABQv/AKOg%2BDP/AIYfVv8A5qKP%2BEH/AOChf/R0HwZ/8MPq3/zUUeIf%2BCi37BXhhSdV/bG%2BGxK/eS08YWlyw/4DDIx/SuA8Q/8ABaD/AIJw6JcjTNM/aAOu3zf6qw8OeGtRvZJPZTHAU/NhXHUzbKqPx14L/t%2BP6Nn0mC8PePsx/wB2ynEz9MPWt98qcUl5tpeZ3/8Awg//AAUL/wCjoPgz/wCGH1b/AOaij/hB/wDgoX/0dB8Gf/DD6t/81FeY/wDD3TwLqg3%2BBv2KP2kfEsbf6qfRfhNK0cg9QZJk498Un/DxX9p/xUdnwp/4JUfF68c/cHi%2B6s9BUn3MzPisf7cyt/DNy/wxm/yh%2Bp6P/ELeOofx8LGku9WvhaaXrz4q6%2BcT0/8A4Qf/AIKF/wDR0HwZ/wDDD6t/81FW/wBlb4jfGnxhrHxQ8CfHTX/C%2Brap4B%2BIUWh2eq%2BE/DVzpNvdWsug6Pqas9vcXt4yyLJqMqFhLtKxodqnOfJh%2B0Z/wVw1oeZpv/BOLwfooflU1j4v2twyezGCMA/hXQ/8E69X%2BMuu638edV/aC8I6PoPi%2Bb4zQf2vpOg37XVpb48I%2BGxEElYAtmERs3ozMO1dGGx9LFTcYQmtL3lCUV98ra%2BR4%2Bd8JY7IcKq%2BIxGHnd8vLSxNGtNaN3caTlaOlnK9r2XU%2Bk6KKK7j5cKKKKACiiigAooooAKKKKACiiigAooooAKKKKACiiigAooooAKK%2BP8A9nH9ov4/%2BJ/jR4E8XeNPinPq3h34seIvHWlx%2BB5NIsYrfwyuj306WMlvNFAty7eRaPHc/aJZg01wrRiBV8tsLQ/26viAvx78aeMvH%2Bp/EbTvDGjeOvEvhHwb4es9A0VfDWrX2k6bcz/Zp7l431Y3cwtLq5SZDFZ4EVvl5VYSAH27XzF8fdX/ALN/4Kxfs22e7H9ofCz4mW%2BPXE3haX/2nVf9h/4u/HzU/iNpvgL40/GWXx0vi34K6D48ivJdHsbNdHvbqaaO6s7cWcMW6ybMJgE3mzr5Uu%2BebcNnn/7Sfxi8O6//AMFtP2VPA2k6f4ggutL8N/Eyy1GbVfCeo2FrMz2OkSr9lubmCOC%2BX9wdzW7yqhK7iNy55sXPko384/jKK/U9vh/D/WsydP8A6d1n/wCA0Ksv/bT7looorpPECiiigAooooAKKKKACiiigAooooAKKKKAPM9S/Zk/Zt%2BNGj6D4p%2BMX7PfgfxZqdv4ftbWDUfEvhOzv544FUusSyTxswQM7sFBwC7HGSapf8MD/sK/9GWfCX/w3Omf/GK5P4vf8FIP2L/2PpfDnw0/aL%2BMv/CO63feFLPU7Wy/4R3UbvfavviWTfa28iDLwyjaWDfLnGCCeQ/4fm/8Esv%2Bjov/ACydc/8AkKvFxGL4dp15RrzpKaevN7O9/O6vf1NF4h4jKl9UjnE6Sp6cixNSCj1soqvFR32UVvtqet/8MD/sK/8ARlnwl/8ADc6Z/wDGK9O0DQNC8KaFZeFvC2i2mm6ZptpHa6dp2n2ywwWsEahI4o40AVEVQFVVAAAAAwK%2BVv8Ah%2Bb/AMEsv%2Bjov/LJ1z/5Cr6e8A%2BOvCvxQ8CaL8S/AuqfbtE8RaRbano975DxfaLW4iWWKTZIqum5HU7WUMM4IB4rowOIyetOSwcqbaWvJy3t58qWl%2B4pcXVeJP3U8xlieTWzrzq8t9L2lVqWvtdJX2v0PCfhh%2Bwv4r8AePPCmtan8Z9N1DQfA/xQ8VeL/DWlw%2BEJILsLrv8Aazz2lxcm9dJTFLqrFJUhi/dwhGQsxkHketf8EYZde8U%2BPfEl58dvDsVx4y8BeP8Awv8A21a/C9E1u5j8TSK4uNV1E3xfVHstojhQLbp5Y27UwGHu1h%2B358I9X06xm0nwp4jmvrrRfFupXeky/YLeXS08OXq2Gox3ck92kEDC7dIEZpfLYksXWNXdeE8G/wDBT7wP8dpvhxqPwEgs5bHXfjPqPgbxvBf31jqUunm38G6v4hQ21zpV9cWcrsbSwO9J5kCTTRsElU%2BV6RB10n7DAfxDquvj4oYOp/HXSfiOYhon%2Br%2BxaRp%2Bm/YM%2Bf8ANv8AsHmedgbfN2%2BW23c3efGv4Hah%2B0B%2BzzrvwS8f%2BMYre/1qwaNPEGh6WYBZXSSia1uooJZZctDKkL7WdldoznAbA%2BePFv8AwVWlf4IeFPGvwi%2BFOv8AiO91SD4eyeI/FMvh%2BC30bRW8SXenKkFzANSa5juGtb3zVSA3UUDTQebMyklvpD4w/Hjw/wDCT4BePPj7daNqVzY%2BAvD%2BsapfWVxp81pLcDToZZZVjE6KWVvJYJKoaNwQyMykEgHO/AX9n/4ofCnV/EXjvxr8WtD8Q%2BKvHHi2LVvGmo2Xg%2BawtJLWDTIrC3srG3a%2Bma02fZ4JTJLLclma4G1RKnk8Z%2Bzh%2Byd%2B1d8C9H8b6l4k/af8A%2BKPGnjS9/tG78azfCK9t7iW9EgES3MZ12QS2cNuPs8NrCbcRqNwcu0jPtfstfGz4/eIfip4m%2BA37So8I3PiLRvBXh3xXa6l4L0q5srQWuqyalAbJo7m5uHeW3n0ubM4dFlSaMiKMhlrk/iP%2B158aP2a/jJ4o0X4z6p4O8WeGdF%2BFHiXx/fWXgzw5d2OpeGtP02SI2sd5LPe3EV0buNrlI3EdqTJZTFEkVZDEAdF4P8A2Xv2kPh54e8V6n4P/aE8Dt4x8eeOJPEXivU9Y%2BFVzcaOCdMtNOWCy0%2BPWIpLb91ZQuzyXU5kkknLDEihMPWv2B/iM37N/hT9jPwj%2B0HpNh8M9F8KaVoutR3vgRrjXbs2cyyNcWd8l9Fb2DOEiCD7JL5BTdGQQgSh8DP2rfjP8Z/gd4q8V2nxw8D/APCV6Ppum6vLpmm/AnxNO%2BjWVykkgA0976O81yKURSpbXtoIY5zDIyRvtMY5Xxl%2B3l%2B0lYfsA6f%2B2Zos/hqzvbCfxFb6pojfCXXdUGtSWN7dwWjOttfJJ4Yjmjsme4bURKunvcCK5ZHgcOAe0eKf2b/jb8Qvjz4d%2BK3jz46eHJNH8C6vqmp%2BB9G0fwDLa3kVxd6fdWCJqF4%2BoyrewRw3cjGKKG2EkscDscxAGj4L/ZV%2BNuk%2BIfiT8XfFX7QHh5viJ448CWXhjSNc8K/D6TTNN0WOy/tB7S6ayl1G5lu5kn1GV23XKKUjjjQRfO7c1pP7W3xi/wCG07j4Q/EXXtB8G%2BDJrvS7XwrDqXwu1m4/4SS4udKW6kgt/Ea3aaWkyzl0WHynkkWFgqksCMz9kr9uXxp%2B1z4j11PDHxT8G6MNX0nXJvh54Y1D4Z6yLhFs74Wkd/JqUt5Da6wiExtdWtkkbW73McLThl3uAem3P7N3xK%2BHf7Pvg/8AZy/Zd%2BJnhTwxofhfwrH4enXxj4Cl18XdnFbR28bKkeoWgWXCMWMnnLIZDuQ94fA37GWk%2BB/EHwUaP4hX%2BpaD8DvAVxoPh7S9Vt/Nub2/e0tLCLVp7neMzR2cN3DtEfzf2jMxYYC14RD%2B33%2B1lrHws1fUPC2i2F/qOhfGaz8Lah4mh%2BAPih5YtJl0hb6a9l8KC7/ta2aOZ1hDSS7ZUKzqvlutdt%2B0f%2B0r%2B0poX7KXhj9oP9l747fCjxDdeIE0jSdHi1H4ZalPb%2BJNc1G%2BhsbfyBHrcMlhCJZgZYpPPkhWKUu37tgACTUv%2BCR37OE3xbuPHmj%2BIfGlnoWp/D7xf4Y1rwjP8QddvbS4PiGe3lu7iNLq/kggX93csYFgMby3EcxAe3iNULb/AIJjeINU0e%2B1jx78avDmoeL7aHwTF4P1TTfhx9j0vS18LXl1d6a9xp5vpDdyO95PHMyzwAxFFhW3ZA9Qav8At5fGzS/2%2BF/Zuk0jQU8OL8RLTwwLeXwhqQNxbzeHl1M3/wDb4uP7OhuROzQro7xG8eNFlB2Sqw7/AOA/xV/at%2BJcnxw%2BGXibxH8PYvFvw/8AiHBofhjWrHwrfJpwtbjQ9I1RGurV79pbiWP%2B0ZYyY5oFk8tMLFk0AcPc/wDBNb4l2FimueEP2kNAt/FGqWvjG28X3Gr/AA1N7o15H4kvLa6vDZ6cNQjNk8bWkaozz3Cury%2BcszPuHXp%2Bxx8ZPDfxz%2BEXjv4d/H3w5a%2BEPhP4Jl8LweHtf8BXWoapqdnOLBLmR9STVYY0mZNOg2P9lcIzyMyy5AXzDxN%2B39%2B0Z4f%2BF0F0j%2BFb%2B7PxzvvAg%2BIfhn4a6zrljqVna6TNeSX9j4esb19QvGS9hl02SOC5lET2tzckmKJgvJ%2BMP%2BCq37RemeE/h74tsPCfhCzGvfDLQPE%2BpwR%2BG9R1i01C6vtTls57WXUbS6W38MQRpGji71LzYmeaSIFms5twB9Bfs9/ssftGfCH4ofEL4rePf2hfBXi/V/HLzyR6s/wxvLS%2BsVR2/s2yMp1mWNtPs43kUW0UUJleWSZpRLLK8kHwB/Zl/bA%2BAnwX1b4daX%2B0/wDDm/1q/wDiDrnia21mX4OXyWkS6vq1/qt7ayWv9vl5MXN%2BwikWePZHEquspJetnw38cPi9o/7Z/jf4M/FPXfByeCNM%2BHll4q0C7stLuLS8sInu7q3mW9uZrp4ZlAt/MDJFCEBIJbrXHfs6ftSftLftVeJfitoHhW38JeC4NLTQdS%2BGF9r3ha81CU6RfLO6z6jbLfWrPJPFb%2BdHGjwNAtzGkokeJwwB6Z8GvgZ/wzl%2BzHc/CqTxW2t3EK63qWoan9iFrHLd6heXWoXAhgVmFvbrNdSJDCGbyoljTc23cc3xx/ykL%2BF//ZGfHn/p28IVk/sgfGT4wftBfsfX3xh%2BMd/4avJdautdPhrUPCuhXGm22oaHFc3EFhe%2BRPd3TKbmCJLoYlYbLhB1BzreOP8AlIX8L/8AsjPjz/07eEKAPZqKKKACiiigAooooAK8Z/YP/wCSIa5/2Wb4j/8Aqa63Xs1eM/sH/wDJENc/7LN8R/8A1NdboA9mooooAKKKKACiiigAooooAKKKKACiiigAooqK%2BvrLTLOXUdSvIre3gjLzTzyBEjUDJZmPAA9TRsNJydktSWivm34o/wDBWb9h/wCG/iP/AIQjRvijN448QZP/ABI/hzpcutzjH3stbgxAg8EF8g9utc1N/wAFSPHHiuM2nwV/4Jr/ALQWuXkvy2Umv%2BEI9FsJWPTddTSuEX1YrxXlzzrKoScfaptdI3l/6RGWvzPucN4Zce4mhGu8BOnCSupVnToJrv8Av6tF8vnytep9b0V8hx%2BDP%2BCwP7RLfa/FnxX8BfADRpOU0vwzpS%2BI9ZC90mmnIt1PYPEePSpV/wCCR/gvxsftf7SP7W3xq%2BJEz/6201bxzJaWAPfy7a2CeWD6BzU/2hja38DDSa7zcaa%2B580v/JUdD4Q4ay7TNs7oxkt4YanVxUl5c8fY0L%2BlWa83ufTfir4nfDbwKM%2BN/iFoejcZ/wCJrq0Nvx/20YVwGuft9fsOeHJTb6z%2B2D8MoZR96L/hOLFnH1VZSRXBeFP%2BCOn/AATX8HnzLD9lfR7uQnLy6zqN7fs57k/aJ3H6V3%2Bh/sFfsQeG4hFo37H/AMMocfxnwNYM5%2BrNEWP50c2ez2jSj6yqS/KMSfY%2BFNDR18fW/wANLCUl906tVnPat/wVF/4J5aLbtc3n7YPgZ1TqLTWVuG/BYtxP4CuKv/8Agtb/AME%2BJLptN8DfEzXfF96px9h8LeCNTuZCfQFoEQ/g1e66V%2By/%2BzRoU63Wifs7%2BBbOVD8klr4Ss42X6FYgRXaWOn2Gl2y2WmWMNvCgwkUEQRV%2BgHAo9nnk96tOPpCb/wDSpoPrvhZh9YYHGVX/AH8TQpr5%2Byw839zTPlAf8FS/FPiX5/hd/wAE3/2h9Zg/gvdQ8Epp0EvoUaWY7h74FKf26/28ta%2BTwR/wSS8YTs33P7e%2BIml6aPxMgbFfWlFH1HMZfFi5fKFNfmpB/rTwbR/gcPUn/wBfMTjKn38sqK%2B6x8ln44f8FhfFXyaB%2Bw18NfChbo/ij4mfbwn1FmgJ/CgeFf8Agtp4l/e6r8Vv2efDIbpFomh6telB7m4IBP6V9aUUf2VKXx4mq/8At9R/9Jgg/wBfaNH/AHXJsBT9aE6r%2B%2BtiJ/kz5L/4Z2/4K56l%2B8vf%2BCjHg3TSesenfCK2mVfoZZMmg/sc/wDBTHXv3Hi7/grTdRWx%2B9DoPwb0q1kP0l8wsPyr60oo/sbCv4p1H61an6SQf8RJz6P8PDYOHpgcJdejlSn%2Bp8lj/gmj8aLn/S9U/wCCo/x7e8b/AFj2muW8EJ%2BkQiIX86Rv%2BCWfinxKfsfxR/4KO/tB65py/wDMNtfGaWEco7iUxRZkHtx9a%2BtaKP7Dyx7wb9Z1H9/7zUP%2BIo8cLWGJhF9HHD4SLX%2BFrCXXy1XfqfKWmf8ABFD/AIJxQT/2j4k%2BB974j1BuZtT8Q%2BMNUuZpj6t/pAQ/9811%2Bif8Esf%2BCd2gBRYfsg%2BCpNvT7bpf2n8/OLZr36itIZNlFP4cPBf9uR/VM5MT4k%2BImMVq2cYqS7fWKqXyUZxSXkkl5HmXh79in9jjwmwk8M/sn/DawcdJLTwPYI//AH0Isn8673w/4T8K%2BE7Y2fhXw1p%2BmQnrFp9kkKn8EAFaFFdlPD4ej/Dgo%2BiS/JI%2Bbxmb5vmP%2B94mpV/x1Kk//S5zCiiitjzgrxn9l/8A5Lf%2B0d/2Wax/9QrwvXs1eM/sv/8AJb/2jv8Ass1j/wCoV4XoA9mooooAKKKKACiiigAooooAKKKKACiiigAooooAKKKKACiiigAooooA8q0P9in9nHwx8RdV%2BK3hzwhqlhrmry3cs1xaeMNVjitHu7uK8vWs4FuRDYG6uIY5bg2yRG5ZSZvM3Nm4n7Iv7PyfGn/hoD/hCrlvEgv5NQTzPEF82nx372hsnvk04zmzS7a1LQNdLCJmjdlLkMwPpNFAHnHwD/ZL%2BAf7MT6hJ8FvBlzpjalZ2llK15r99qBgsrXzfstjb/bJpfslnB583lWkOyCLzX2RruOfl7/gobqX9i/8Fbv2IdS3Yy/jy2z/ANdoNGix/wCPV90V%2Be//AAVn1L%2Bxv%2BCl37DmpbsZ8Z65bZ/67Xnh%2BLH/AI9Xm5tLky%2BUuzj/AOl0z7Tw9ofWeLqFH%2BaNdffhcX/kfoRRRRXpHxYUUUUAFFFFABRRRQAUUUUAFFFFABRRRQBleBv%2BRJ0f/sF2/wD6LWtWsoeDNDTKwNfQpkkRW%2BrXMaL7KqyBVHsABS/8IfpP/P3qv/g8u/8A47QBqUVl/wDCH6T/AM/eq/8Ag8u//jtH/CH6T/z96r/4PLv/AOO0AeH%2BIP8Agmn%2Bz54l8R/GbxLqGr%2BJhL8bdOtrPXLdNRh8nRBEpLSaahhIgaaci5mEvmpLMqllK/IX%2BCv%2BCd3w58LeLo/iF4g%2BMXj7xT4gPxOk8d3mseIL3T/Mu9TbwrP4X8tktbKGJLcWE5ZY4kjxMiNnZujb23/hD9J/5%2B9V/wDB5d//AB2j/hD9J/5%2B9V/8Hl3/APHaAPnL/h1J8GLPwvoHgHw58Z/iRpHh3SLHwhDqmg6dqeniDxBN4aa1OmXd4z2LSibbZWyS/Z3gjlSJQyfKuPoHWPh1pHi3wPrvw6%2BIV9c%2BI9J8RQ31tqVrqkcKhrK6Dq9mPIjjBiWNzGpbMhUDe7tljc/4Q/Sf%2BfvVf/B5d/8Ax2j/AIQ/Sf8An71X/wAHl3/8doA8z%2BB37Hul/AuTUtZ0745%2BO/EGv6pDotjdeKPE0%2Bmz3x0jSpJXtNJHl2UcX2YfaLsM5jNyxvJnM/mFZFx/hx%2BwV4Z8C%2BKviNrXiL48eO/GWlfFW51CXxp4Z8Ww6JLa3i3UfkiDz7fTYb3yILfFvBEbgpHEMYJy1eyf8IfpP/P3qv8A4PLv/wCO0f8ACH6T/wA/eq/%2BDy7/APjtAHjngn9hgfD621fUvDX7VfxRTxRq2maRpI8b3LaHPqNppOmNdNaadHHJpZtGhVr66ZpJbeSd2my0rFUKxX37BGkt8IT8EfDn7THxO0PRNSbWJPGbabcaQ1z4qm1S5lub6a7mn06RoJJJJ58GyNqI1l2xhAkez2j/AIQ/Sf8An71X/wAHl3/8do/4Q/Sf%2BfvVf/B5d/8Ax2gDzPXv2O9A8T%2BN/D2sa38YfGcvhLwnqem6j4e%2BGKNpseiWd1YRIlpJvSyF/II3RZxHJdtH5oBKkBVGN4U/YC8EeBvFU3inwn8aPHlj9isNatfA2nxz6YbbwX/atyl1eSaerWJMjGWNNgvTdJEgMaKsbFD7L/wh%2Bk/8/eq/%2BDy7/wDjtH/CH6T/AM/eq/8Ag8u//jtAHlGg/sbal4V0nXrrw3%2B1h8TbTxd4p1621LxH8QRFoEmp3629p9lhszDJpTWEVukYUhYrVHLjeXJZy17w1%2BxZ8JfC3h/4YeFrHVNemsPhV4hute0i3u7%2BOX%2B1NVuLa9hkvL4mPM0hfULq4AQxqJpA4X5EC%2Bk/8IfpP/P3qv8A4PLv/wCO0f8ACH6T/wA/eq/%2BDy7/APjtAHkt1%2Bwn8PLv41TfFqT4leMRplz43g8ZXPgBbuz/ALFl1%2BG0jto78k2v2wMFiik8kXIgMsYkMRYknGtf%2BCft5bWfxgtf%2BG1PjEH%2BNEpn1%2B7tZfD1pcaVcfY7SwFxp81tpEbwSLZWUFupdpAFBkx5x82vc/8AhD9J/wCfvVf/AAeXf/x2j/hD9J/5%2B9V/8Hl3/wDHaAPFdO/YD0bSPhn4L8AaR%2B0d4/sr/wCHGqtdeAvFWnaf4dtbzQ7drBrBtPit4NJSwktTA8g2y2sjhn3BwUj2Ymo/8EsPgbP4fTwbofxN8faPomo%2BDbTwt450iw1SzePxnplvd3l2I9Ree0klV5JtR1AySWj2zuLyRSdojCfQv/CH6T/z96r/AODy7/8AjtH/AAh%2Bk/8AP3qv/g8u/wD47QB5bffsaadrX7T2rftJ%2BJvjt4z1a21zwv8A8I5qvw41PT9Cl8PXOlbZsWjodM%2B2Onm3Esx3XRLM21i0X7qsvwL/AME2f2T/AIP6r8Stf%2BAHw6074cah8TvC0ehale%2BAdB03TJNKhSGaMS2PlWuIpSZvNJkEiGSKJiny4Ps3/CH6T/z96r/4PLv/AOO0f8IfpP8Az96r/wCDy7/%2BO0AY1r4C8K/Cv4FR/DDwLpSWOieG/CS6Xo1jH923tbe18mGMeyoij8K4bxx/ykL%2BF/8A2Rnx5/6dvCFeonwZob4Wdr6ZMgmK41a5kRvZlaQqw9iCK8u8cf8AKQv4X/8AZGfHn/p28IUAezUUUUAFFFeQ/tr/ABI8ffDz4T6RZfDLxK2hax4s8f8Ah3wxD4iS0hnfSYtQ1O3t57mOOdHiaYQvIIvMR4xK0ZdHUFGAPXqK%2BUrD4y/tUT/sh/FCw8G%2BINR8VeO/h98Rrvwzb%2BKLXQbWXUr7S4r61aa/js4Ykt57%2BDTrmXESRCOa5tQBCBJ5Vc78LPjb%2B0N8bPgl8V9O8H%2BOPjhqOp/Cz4oro%2Bh6hovhHwxpHizxPYy6Jpeoqt1Z6/ZW9jblH1SQYMNrK0VtC2N7sjgH2fXjP7B//JENc/7LN8R//U11urP7NPx41XxV%2BxL4E/aE%2BK2o/wBs6nqHgPTdS8S3Hg3w7fXnn3j28ZuPs1lDC10370uPKWLeuCCowQMj/gnT4hsPFv7N194p0q3vorbUfi38Q7m3i1PS57K5RH8Z60wEtvcIk0DgHmORFdTkMoIIoA90ooooAKKKKACiiigAooooAKK4f43ftK/AL9m7w%2B3ib47fF3QfC9r5bPENV1BUmuAOohhGZJm4%2B7GrH2r488Sf8FGvjP8AtfajJ4f/AGWvGvhP4KeAvM2XXxZ%2BKd/aRajeR9203S5pBkHqJJvlYHrGwxXm43NsFgpezlLmm9oqzl89Uorzk4r1PqMn4RzPNcO8ZWlDDYSPxYjESVKkvKLl71WXaFGFWbelo7r7X%2BKHxi%2BE/wAEvDbeMPjB8SdD8MaWp2/btd1OK1jZv7qmRhub0UZJ7CvnLWP%2BCxH7NWv6hN4d/Zn8C/EL4yatG3l/Zvh74MuZoI5O3mXE6xoqdMuu4Ac81xvwv/Zi/wCCWPhXxIvxS%2BPf7VvhX4x%2BM1G6XxN8UfiPY6isR6kRWry%2BRFGDyqlWKYGGr1zXP%2BCnH/BNb4S6cmjj9qrwFBaWibIrTw5erexxqOypZLIMewFefPH4upHmqV6VCP8AijOX3uUYJ%2Bil6nbWzfwe4eXvVKmYTW8pVYYShfyinVxMo%2BcpUm%2ByOJGr/wDBYH9pM50fQPAX7PGgTfduNTkXxL4gVT0YRri0XI5KvhgcD1qez/4JFfDLx/dx61%2B2H%2B0F8S/jNdrIJGsPE/iaW00lHByDFZWpQRjPO3eR7USf8Fpv2N9czH8HtH%2BJHxElPEMHgr4c387TN2VfPSIEk8ckUxf2u/8AgpT8YWz8Av8AgnOnhbT35i1z4v8Ai2OyYj0awtwZ0P8AwI%2BlcvNkdZ/vKksTL/t6ov8AwGCjTXzucMvG3EYZez4e9lhI9FgqLdT54hxq12/P6xT%2BR9IfCj4HfBv4FaAPC/wZ%2BFugeF7DA322haVFbCQj%2BJyigu3%2B0xJPc11NfJI8Gf8ABbHxWftWs/Gj4A%2BE%2B6Wvh/w7qd9n0VmuiPxK/hS/8Ij/AMFt9N/cWXxd/Z11NDwZ9R0HV4XA9QsR2k16kMwVKCjDC1VFbWhFfgpq33HwmK4kx2OxEsRicPiKk5O7lKPNJvu3KtKTfq2fWtFfJR%2BGX/BaK8H2y4/ad%2BCdnKnK2dp4LvJIZD/dZ3beB7jmkHiT/gtr4P8A3Wq/Db9nvxjGPuS6LrGq6fKw9XFwCgP%2B7xV/2q18WHqpf4L/AJTb/Aw/tqUdZ4Wsl/17T/CM2/wPraivkr/hpj/grVon/IU/4JkeGtbx1/sb4z2Ntn6faIzR/wAN1ft86f8AuvEX/BI7xdFJ6ab8SNLvF/76VQKP7Zwi%2BKNRetKp/wDIsP8AWDAr4oVV60av6QZ9a0V8kS/8FFf2p/Dy/wBq%2BO/%2BCUvxZt9LjObqbQL%2By1S6UeqW0TK0n4EU%2BH/gtp%2BwFZW0lt488beJ/CetwlVk8K%2BI/AmpRakGPAXy44XUnII4cgd8Uf25lS%2BOqof41KH3c0Y3%2BT%2BQf6x5JH%2BJWUP8alT%2B7njFP5NvyPrSivkf/h6rq3jz91%2Bzj%2BwH8cfGu7/Uand%2BFV0jTZfTFzcvx%2BKDFI37UH/BWZR/wlzf8EzPD66Un3/Dg%2BLlm2qsv99ZQnkcD%2BDG49KX9tYCX8Pmmu8YTkvvUUvuv8w/1hyyWtLnmu8KdSS%2B9QS%2B6/lc%2BuaK%2BR4v%2BCs2neGidJ%2BMv7DHx98LavH/AKy0j8Atf28nqYbiGTbKo6ZwKef%2BCv3wquP3ejfskftDajN2t7L4Tzs5/BpAP1p/25lPWql5NST%2B7kuH%2BsmR9ayT7OM0/u9nf8D61or5KH/BVDxLd/vtK/4JlftPyQn7r3Pw2SFj/wABNwTS/wDD0fxv/wBIxP2l/wDwgY//AI/R/beWfzv/AMBqf/Kw/wBY8m/5%2BP8A8Aq//Kj60or5KP8AwUu%2BN%2Bt/6J4E/wCCWnx5uLs9E1/R7bS4fb97JKw/Sgftb/8ABU3Uf9L0n/gkzbwW7f6pNR%2BOGlLKR6soj%2BX6daP7awL%2BDnl6U6j/APbEH%2BsOWy%2BDnl/hpVX/AO40fWtFfJX/AA11/wAFStOPmat/wSSjuIv4m07456Qzr/wFost%2BFA/b1/bgh/d3v/BJXx2so%2B8IPG%2Bmyp%2BDADNH9s4Jbqa9aVT/AOQD/WDL18Uai9aNVf8AtjPrWivkr/h4Z%2B1jp37zxH/wSi%2BKkUfrpmr2N43/AHyrCj/h6J4/i/d3X/BML9pISD7wi8DROufZhPzR/bWXdZNesKi/9xh/rFlK%2BKcl606q/wDcR9a0V8lf8PW7zTjnxP8A8E3v2oLFP%2Be8fwuE8aj/AGitxx%2BVH/D5P9myw/5G74PfGXw/j7/9s/DC8Tb9dm%2Bj%2B3MpW9VL1Ul%2BcEH%2BseRr4q6Xqpx/9Kpo%2Bta8Z/Zf/wCS3/tHf9lmsf8A1CvC9efaB/wWn/4Jt61ef2Xf/tCnRbz%2BK18QeGNSs2X6tJbhB/31XR/sJfFD4efGfxt8f/iX8KfGNhr%2Bgan8ZbU6fq2mTiWCfZ4O8MxPtYddro6kdipHaunDZhgMY7UKsZtdFJN/cnf8DswmaZZj5OOGrwm10jJN/cnf8D6EooorsO8KKKKACiiigAooooAKKKKACiiigAooooAKKKKACiiigAqj4o8Q2HhLw1qPivVQ5tdMsZru5ES5by40LtgdzhTV6o7u0tb%2B1lsb23SaGaNo5opVDK6kYKkHggjjFAHzf%2Bxr%2B1L8fPip4w0bwr8f9N8JI/jf4T6d8QPC6%2BE9Pubf%2By7e4lCT6ZdNPcTC6khE1ptu4xAspeX9xFsG7z7wV%2B3R%2B1TqvwC%2BM/irVbfQrr4q%2BEfh94n1/wAC/CBvgt4h0i%2BuZLF7tLF1e7vWOu28zR2iM1gkYL3KqHVpEFezfs//ALC/hD9nPWLXWvCfxl8dapJpmi6foGhp4gudOuBpnh%2ByMxg0aErZIxt90wLTSF7yTyIQ9ywjAqzo/wCx5c2fji/%2BKniD9p/4j674rbwve%2BH/AAz4i1RdEWbwxZXdxb3FwtlFb6ZFbyO8lnZlnu4rhiLWMEkbwwBofsjfGbUPjL4E1W98RfFXRvFGsaPr0lhqqaX8ONU8JzaW/kwypa3Wmarcz3UM2yVZQ0hQPHNEyptId/hr/gsL8XPhR4s/b0/Zk0zwT8TvD2sa58O/F13deJdH0rWoLi70d21vwwkYuoY3L25bL4DhSdpx0NffXwF/Z40f4FP4k1l/iB4j8XeIfGGrx6j4l8U%2BKntPtl7LHbRWsKbLK3t7eKOOGCNFSKFBnczbndmPxP8A8F3v9B8a/C7xV0/sLwxrN/u/u7fFHgpM/wDj9eTnv/InrvtG/wBzi/0P0Dwq18R8rh/PV5P/AAZTrU//AHIfozRRRXrH5%2BFFFFABRRRQAUUUUAFFFFABRRRQAUUUUAFFFFABRRRQAUUUUAFFFFABRRRQAUUUUAFFFFABRRRQAUUUUAFFFFABRRRQAV4z44/5SF/C/wD7Iz48/wDTt4Qr2avGfHH/ACkL%2BF//AGRnx5/6dvCFAHs1FFFABXO/Fj4T%2BAfjf4Cvfhn8TdDbUNHv3gkmhivZraWOWGZJ4J4Z4HSWCaKaKOWOWJ1kjkjR0ZWUEdFRQB5x4W/ZR%2BC/gj4e3Xwv8IWfiTTdIvbSeG6Fn481iO6lee6kup7s3Qu/tH22SeWSR73zPtLlvmlIAAzz%2BxT8Ao/h5a/DHS7bxhpenW2qXGoyXeh/E7X7DUr67nz5015qFtfJd3zvxuNxLJnan9xcer0UAZHgHwF4N%2BFvgjSPht8O/Dlro%2Bg6Dp0Nho%2Bl2UeyG0tokCRxoOwCgD1rzD9g/wD5Ihrn/ZZviP8A%2BprrdezV4z%2Bwf/yRDXP%2ByzfEf/1NdboA9mooooAKpeJPEvhzwdoV14o8Xa/ZaVpljEZb3UdSukggt4x1d5HIVFHqSBXmH7bv7VOj/sffs%2Bar8WJ9N/tPWpZI9N8IeH0BaTV9XnJS2tVVfmbLZZgvOxHIyQBXi3gP/gml4v8A2gZtL%2BK//BTT4yar8R9a2R3cPw5tJPsPhnRJioPlC2gb/SnQ/L5rnDgEMrjk%2BbicdVjX%2Br4aHPUsm7u0Yp7OT1etnaKTbSvotTycXmNaGJ%2Bq4Sn7SrZN3fLCCd0nJ6vWzajFOTSb0Wp0XjX/AILE/sNaDrL%2BE/h3441n4k68M7ND%2BGnhu51aaXt8kiKIWyfSSsX/AIaW/wCCon7Qh8r9nj9i3RvhjpE3%2Bq8T/GrWm%2B0lD1I020/exOB0DllJ696968b%2BLf2bv2Kfg3f%2BOfEEPh7wJ4P0aENMun6dHawg9EjjhhUeZIx%2BVUVSzHgCvnpf2j/%2BChP7bEYtv2Rvg4nwf8D3Y%2BX4nfFGyD6ncxHpLY6WCcZGGV5iUdTwVNeZiquKhNUq%2BIbm9VTowtJrzlLmaX95uCPpch8PuLeJsLLG4nGQw2Di%2BWdZuNCkna7iqk/aVak7a%2Bzo051NVdQumec/tR/tef8ABTz9ifSbWf4l/Gj9m3XtW1JgmheEotE1xtZ1hy20Jb2tscsS3y7m2xhiAWBIFVb4/wDBwN%2B2H8JE8i3%2BGfwQgveqpLeWWsTxMO5/0x7XHt5MoPtX1B%2Byx/wT3%2BC37M%2BtXHxOvrvUfHPxJ1QFtb%2BJPjGb7Vqdy5GGWItkW0eOAkfO3Csz4Fe8VFHJcdiVJ4nEVIwa%2BCNRtr/FPlTv5Rsl3e525lgeFckdOlw/isVVrU3d4mpUSjJrpSw06NRKC6SrudSWj5IaJfnd%2Bz3/AMG%2Bvwks9cHxM/ba%2BLOtfFPxNcMJbyz%2B3TwWLSd/MlZzc3JBH3i8YPIKGvpDRv8AglV/wTq0IAWX7IPgx8dPtmnG5/8ARrNX0DRXoYXIMmwcOWnQj6tKTfm3K7Z81jcJRzTFvF5hfEVpb1KzdWbtsuapzNJdIxUIRWkYRWh4iv8AwTV/4J/KwYfsbfDnIOefClsf/ZK7fwb%2BzL%2Bzf8Odh%2BH37P3gnQjH9w6P4Us7Yr9DHGK7eiu6ngcFSd4Uop%2BUYr8okUsuy6hLmp0YRflCK/KKEVVRQiKAAMAAdKWiiuo7AooooAKKKKACiiigAqKSysprqO9ltImmhBEUzRgsgPUA9RnHNS0UBZMKKKKACiiigAooooAKKKKACiiigAooooAKKKKAKGv%2BFvDHiuz/ALP8U%2BHLDUrc9YNQs0mT/vlwRXjH7G/hTwt4I%2BKf7RHhnwX4a0/SNNt/jPaG30/S7NLeCIv4N8Mu5WOMBV3OzMcDksSeSa92rxn9l/8A5Lf%2B0d/2Wax/9QrwvU8kObmtr36/eTyQ5%2Bayv3sr/fv%2BJ7NRRRVFBRRRQAUUUUAFFFFABRRRQAUUUUAFFFFABRRRQAUUUUAFFFFABRXz38Gv249a%2BKXxh0vwjq/weg0jwh4w1LxJp/w98Vx%2BJTc3OqXGiXbW9yLqyNsgs1mEVxPbsk8%2B%2BKAmQQOyoanwu/b8h%2BIH7QHxQ%2BFOr2Hw60rSfhbqF/BrG34oNceJWt7W2gnN62irp6%2BVbN520SfaW%2B5wCTgAH0fX53/8F69Nk1PweFhyJLf4J%2BJ7mNh1Ux%2BLPAjk/kpr6a/ZR/bA8ZfHzxIPCPxP%2BCcPgjUNT8CaX408LwW/ib%2B0/tmjXzyoq3B%2BzQC2vYWjQTQL50S%2BfH5c8vz7fDP%2BCyekf23ZX1ntzs/Zp%2BIVxj/rlrPg2X/2SvNzmHtMnxEe9Of/AKSz7bw1xH1XxFyat/Li8O//ACtTX6n2/oepJrOi2esRY23drHMuPRlDf1q1XH/s86v/AG/8AfA2u7t323wfplxn132sbf1rsK7qU/aUoy7pP70n%2Bp8nj8P9Ux1ah/JOcf8AwGUo/wDtoUUUVocoUUUUAFFFFABRRRQAUUUUAFFFFABRRRQAUUUUAFFFFABRRRQAUUUUAFFFFABRRRQAUUUUAFFFFABRRRQAUUUUAFeM%2BOP%2BUhfwv/7Iz48/9O3hCvZq8Z8cf8pC/hf/ANkZ8ef%2BnbwhQB7NRRRQAUUUUAFFFFABXjP7B/8AyRDXP%2ByzfEf/ANTXW69mrxn9g/8A5Ihrn/ZZviP/AOprrdAHs1FFfHn7YPxt%2BJX7VfxguP8AgnL%2ByJ4jl0%2B48hX%2BM3xEsuU8LaY/BsoWHBvp1yoUHKAnod7RcmNxkMFR5mrybtGK3lJ7Jfm3skm3ojgzDH08voc7TlJu0YreUntFfm29IxTk9Frn/Bz/AI2K/t0Xn7S18PtPwl%2BB9/Po/wANY25g1zxDwLvVQOjxwjakTcjIR1IIcV9KftMftLfCf9kz4Sah8ZfjFr32TTbICO2toVD3OoXLZ8u1t48gySuRgL0ABZiqqzDLf/hnz/gnp%2ByizRRR%2BHvAXw90IkIp3SMoOcDODLPNK31kkl9Wrwv9l34BfE39sb4p6V/wUA/bS0E2cNsn2j4N/C2dt9v4btHwyahdKeJL6QbXBI/d/KcBgixeTB4jBx%2Br07SxNW85P7Mb6cz/ALsdIwjvK1tLya%2By4D4PwlPLauecQTccLCf7xwdp4iu1zLDULp2tDlUqjTjQornknOdOnNPgd%2By78X/2zfiXpf7Yn/BQLw%2BLGx06X7V8MPgrKxe00BDyl7qCkAXF6wwdrDEfcA4jj%2ByKKK9XBYKlgoNRblKWspP4pPu3%2BCSsorRJLc4l4nx3E2KhKrGNOjSXJRowuqVGF78sFdu7es5ybqVJ3nUlKTSiUUUV2HzgUUUUAFFFFABRRRQAUUUUAFFFFABRRRQAUUUUAFFFFABRRRQAUUUUAFFFFABRRRQAUUUUAFFFFABXjP7L/wDyW/8AaO/7LNY/%2BoV4Xr2avGf2X/8Akt/7R3/ZZrH/ANQrwvQB7NRRRQAUUUUAFFFFABRRRQAUUUUAFFFFABRRRQAUUUUAFFFFABRRRQB83fDr9hXx98NviZp3ijS/jvpd14e8Iar4h1D4c%2BHLzwVIZNKm1q%2B%2B03n2u5W%2BX7aIo5Lq3tgkdv5UdxmX7SyAnc8f/skeOfjX8bND8bfG34o%2BHNR8IeE9Q1e78NeGNB8Dy2F%2Bx1DTbrTJIr3UHv5hcxC2vZyUigt98qwyMSYgD7rRQB4T%2Byh%2Bx/4z%2BAfiQeLvih8bYPG%2BoaX4E0vwX4XntvDH9l/Y9HsXldWuB9pnFzezNIhmnXyYm8iPy4Ivm3eJf8FC/gZ8KNC%2BKHi/xT4I%2BF/h7SNf8V/sn/FWbxDrGlaLBb3erzQzeGGha6mjQPOVJbBcsRuOOpr7jr5l/bI0j%2B3/ANoTTNC27vtv7MvxQt8eu%2B78Kr/WubGQ9pg6se8ZL74yR7PDeI%2BqcR4Gv/JWoy/8BrUpfoehfsGav/bv7D/we1YtlpvhfoJkP%2B2NPgDfqDXrFfP/APwSs1f%2B2/8AgnX8ILzdnZ4MtrfP/XItF/7JX0BWeWz9pl1CXeEP/SYnbxth/qnGmZ0f5cTiF91et/mFFFFdp8yFFFFABRRRQAUUUUAFFFFABRRRQAUUUUAFFFFABRRRQAUUUUAFFFFABRRRQAUUUUAFFFFABRRRQAUUUUAFFFFABXjPjj/lIX8L/wDsjPjz/wBO3hCvZq8Z8cf8pC/hf/2Rnx5/6dvCFAHs1FFFABRRXkP7a/xI8ffDz4T6RZfDLxK2hax4s8f%2BHfDEPiJLSGd9Ji1DU7e3nuY450eJphC8gi8xHjErRl0dQUYA9eor5SsPjL%2B1RP8Ash/FCw8G%2BINR8VeO/h98Rrvwzb%2BKLXQbWXUr7S4r61aa/js4Ykt57%2BDTrmXESRCOa5tQBCBJ5Vcn8P8A9pPxl44%2BBvxZ1v4gftZ/E3wPo3wf%2BJZ0i28b33w/0mz8SeI7SfRNJv7aCfTb3SiiXDXOq/Z4oIrKGecJbAKHlIYA%2B2a8Z/YP/wCSIa5/2Wb4j/8Aqa63W98H/iF8TdB/ZR8J/Er9qDw5d2vjGPwVp13460rw3oVzfzQ6k1vGbqKG0slnlkIlLjy4hJjBwWA3Hk/%2BCdPiGw8W/s3X3inSre%2BittR%2BLfxDubeLU9LnsrlEfxnrTAS29wiTQOAeY5EV1OQyggigDd/bk/aAh/Zb/ZJ8e/HQTrHd6H4flOkb8Ya/lxDarjuDPJED7ZrD/wCCdf7Mdh%2By1%2Byt4b8JX%2BmlfFWs2UesePNSuGL3V/rFygkuHmkYlpGVm8sEnog9TXmf/BQ7/i/37T3wF/YdtP31jqnil/G3jiEcqNJ0pS8UUo/55zzkp/vRjpXof/BS39oTXf2d/wBkrXdV8BmR/GXimaHwx4FtrdsTTatfsYYjH/topklHvFivBqYilHHV8ZU%2BChHlX%2BJrmnbz%2BCHzsYcM5Li%2BLuOIYLDJOXNChBvZTqNSqSb6KELcz6RhO7smeReLf%2BNnv7ZJ%2BG1sftPwK%2BB%2BtrL4nlU5t/FvilOUsvSS3tQcuOQzEggh0YfbIAAwBXmv7IP7OPhr9k79nHwp8B/DUMP/ABJNKjXU7uFMfbb5huublj1JeUu3PQEDoBXpVdmW4WpRpurX/i1NZeWmkV5QWi7vme7Pu%2BNc9wWZY2nl%2BWXWAwidOgno5K9515r/AJ%2BYiadSX8sXSpr3aaQUUUV6R8WFFFFABRRRQAUUUUAFFFFABRRRQAUUUUAFFFFABRRRQAUUUUAFFFFABRRRQAUUUUAFFFFABRRRQAUUUUAFeM/sv/8AJb/2jv8Ass1j/wCoV4Xr2avGf2X/APkt/wC0d/2Wax/9QrwvQB7NRRRQAUUUUAFFFFABRRRQAUUUUAFFFFABRRRQAUUUUAFFFFABRRRQB89/Br9uPWvil8YdL8I6v8HoNI8IeMNS8Saf8PfFcfiU3Nzqlxol21vci6sjbILNZhFcT27JPPvigJkEDsqG7qn7b1kn7Z6fsm%2BG/hzJqNlB4R1bUtX8Zf2qI4bbU7FdPlbSkh8pjLILfUbaaSXeqx%2BdEoEjGQRYvw6/YV8ffDb4mad4o0v476XdeHvCGq%2BIdQ%2BHPhy88FSGTSptavvtN59ruVvl%2B2iKOS6t7YJHb%2BVHcZl%2B0sgJWH/gml8JfC/7UOiftR/C3xl4r0PUNJTxVcz6FdeN9dv9NutT1ueC4muhaS6j9mhjE0c0j20cQimaZGIUwREAGt/wT0/bL1L9ub4F2Hxzn0v4dWNrqml6feQad4D%2BKB8Szae9zbLO9pqB%2BwWgtLqIOitEPMOd2SuBun%2BLelrrn7dXw%2B0RwMXnwM%2BIMBz/ALep%2BEV/rWn8Bf2cfiH4C%2BMfiv8AaB%2BMvxR0HxH4o8UeHdI0Fk8JeDJNC0%2B3sdOlvZoSYZb28llnL38wMjTbQixqiJhy/MX/AMI/hR4G/wCCm3gvx74J%2BGPh7R9d8T/B7xxL4l1rStFgt7vVnj1bwl5bXM0aB5yu98FyxG446mk0mrMqE5U5qcd00/ud/wBDn/8Agijqrav/AMExPhbO5O6G11O3YHqPK1W8jx%2BSivqevkz/AIIq/wCg/sOW/hXp/YXjnxFYbf7u3U53x/4/X1nXl5E28lw1/wCSK%2B5W/Q%2B88VIRh4mZzy7PFVpL0lPnX4TQUUUV6p8CFFFFABRRRQAUUUUAFFFFABRRRQAUUUUAFFFFABRRRQAUUUUAFFFFABRRRQAUUUUAFFFFABRRRQAUUUUAFFFFABXjPjj/AJSF/C//ALIz48/9O3hCvZq8Z8cf8pC/hf8A9kZ8ef8Ap28IUAezUUUUAFc78WPhP4B%2BN/gK9%2BGfxN0NtQ0e/eCSaGK9mtpY5YZkngnhngdJYJopoo5Y5YnWSOSNHRlZQR0VFAHnHhb9lH4L%2BCPh7dfC/wAIWfiTTdIvbSeG6Fn481iO6lee6kup7s3Qu/tH22SeWSR73zPtLlvmlIAA5vxJ/wAE9f2VfFfgfw/8P9W8JeJEsvDHimXxLpV5YfEfXrTUTrMiSRvqE9/BepdXdxsldfNnlkYAjBGBj2uigDP8KeGdO8GeGrHwnpFzqE1rp1qlvby6tq1xf3LoowDLc3Mkk07%2BryOzseSSa8p/YP8A%2BSIa5/2Wb4j/APqa63Xs1fO/7N3jaL4Z/sb/ABE%2BI8zKqeH/AIifFTUnZugEHi7XpTn/AL4qZyjCDlLZJv7tf0IqTjTpuctkm36JNv8AI4j9h4f8ND/tz/Hr9su5/faZo%2BpQ/DbwROeQtrYYlv2Q/wASSXTI6kcfeHNM8W/8Zd/8FWdH8Ex/6R4O/Zy0NdZ1cDmKfxPqCYtI27Ew26%2Bcp6q6sCOavf8ABNG40f8AZo/4JKeEviT4sUrDYeC9Q8W61O7YedZXuL9nZjyWMbKAT2ArU/4JIfDbW9A/ZOt/jj49/e%2BL/jDrFz438T3bLgu96%2B%2B3Rc8iNbfyiq9AXbHWvlsLCWIo4XDy3qXr1Pv5kvnOUF6Uz67wyhLIeBMdxLU0rVI%2Bwpd1WxkZTrTXnSwqlFPo6sdj6gooor6s%2BUCiiigAooooAKKKKACiiigAooooAKKKKACiiigAooooAKKKKACiiigAooooAKKKKACiiigAooooAKKKKACiiigArxn9l/8A5Lf%2B0d/2Wax/9QrwvXs1eM/sv/8AJb/2jv8Ass1j/wCoV4XoA9mooooAKKKKACiiigAooooAKKKKACiiigAooooAKKKKACiiigAooooAKK8Z%2BFv7bvw4%2BK/xg/4VNpPgfxTp8F7da3a%2BF/FuqWtquleI59IuhaalFZtHcPOGhm3AefDCJlikkhMsaF6teJv21fgx4T/aeX9lXVTqf9sxeCr/AMT6rraW8f8AZWlW1obcyQXE5kDLcGO5jmEao22Iq7lBJF5gB65XjPjj/lIX8L/%2ByM%2BPP/Tt4Qq1%2BzR%2B2F4O/aY1C90XTfhv4u8Jahb%2BH9M8QWOneMrO1hm1LRdQ88WeoQi2uJwscjW06mKUx3ERQCWGPem6r44/5SF/C/8A7Iz48/8ATt4QoA8x/wCCQv8AoPww%2BL3hXp/YX7RHiyw2/wB3bNE%2BP/H6%2BtK%2BS/8AgmB/xKviL%2B0/4Vxjyf2jtav9v/X1Fbvn8dtfWleTkemVU125l906i/Q/QPFP3uPsbU/n9lP/AMDw2Fn%2BbYUUUV6x%2BfhRRRQAUUUUAFFFFABRRRQAUUUUAFFFFABRRRQAUUUUAFFFFABRRRQAUUUUAFFFFABRRRQAUUUUAFFFFABRRRQAV4z44/5SF/C//sjPjz/07eEK9mrxnxx/ykL%2BF/8A2Rnx5/6dvCFAHs1FFFABRRRQAUUUUAFfCPx28dn4df8ABHX486%2BJthufHXxK0sHPX7b461ezx%2BPn4/Gvu6vzi/ac/wCKm/Ya8NfBFfm/4WP%2B2n4g8PywjnfE3j7XJ2JH90eQpJ6DivMzmcqeU13HdxaXrL3V%2BMkePxBUlSyPEuO7hJL1l7i/GaPRf%2BCg2l6z8Lv%2BCZPgb9kDwlJ9m13x2/hb4b6SqjlGkEKTcf3fJt5VPYb6%2ByPCfhjRvBPhXTPBnh21EGn6Rp8NlYwDpHDEgjRfwVQK%2BVvj3/xfP/grH8HPg3GfN034WeDtU8d63EOUa5uGFjZBvR0cGRR1wxPSvrmscuhGWNr1FtHlpR9IRTf/AJNL8D9W4ipxybgnJMmho5QqYqa860lSo39MPhrryn56lFFFeyfAhRRRQAUUUUAFFFFABRRRQAUUUUAFFFFABRRRQAUUUUAFFFFABRRRQAUUUUAFFFFABRRRQAUUUUAFFFFABRRRQAV4z%2By//wAlv/aO/wCyzWP/AKhXhevZq8Z/Zf8A%2BS3/ALR3/ZZrH/1CvC9AHs1FFFABRRRQAUUUUAFFFFABRRRQAUUUUAFFFFABRRRQAUUUUAFFFFAHyh8Jv2Qf2kPht8TfDLXi%2BCL7wj8Mtd8Van4Gkj8RXkWoas2t37yKl7GbFo7QWdpdXcWY3uPtUgic/ZhuFZfir/gln4k1X9pP/hZmn/tU%2BM7nwhrul%2BO08XeH9XTRmkE/iAWSCK3kj0lbiS3jjt9g865aWKOzsoo38tZFP2HRQB88/sh/s7ftA%2BBPiBP8Uv2kLrwguqWHw10LwRo1v4N1K6uobqCwlupZtSmNxbQGCS4e4jxaqJVgEJ/fzGTKpf8Awx8N%2BDv%2BCm3gvxnpOpeIZrzxD8HvHEl/Dqvi7Ub60iKat4SwLa1uZ5ILIHccrbpGGwNwO1cfQ9eM%2BOP%2BUhfwv/7Iz48/9O3hCgDzH9gj/iVftsftZ%2BFenk%2BPtGv9v/X1pu/P47a%2BtK%2BS/wBlP/iT/wDBVb9qzSTwup6d4Iv4l/3NMliY/ia%2BtK8nJdME49p1V/5Un/mfoHiZ73EtOr/z8wuBl9%2BDw9/xiwooor1j8/CiiigAooooAKKKKACiiigAooooAKKKKACiiigAooooAKKKKACiiigAooooAKKKKACiiigAooooAKKKKACiiigArxnxx/ykL%2BF//ZGfHn/p28IV7NXjPjj/AJSF/C//ALIz48/9O3hCgD2aiiigAooryH9tf4kePvh58J9Isvhl4lbQtY8WeP8Aw74Yh8RJaQzvpMWoanb289zHHOjxNMIXkEXmI8YlaMujqCjAHr1FfKVh8Zf2qJ/2Q/ihYeDfEGo%2BKvHfw%2B%2BI134Zt/FFroNrLqV9pcV9atNfx2cMSW89/Bp1zLiJIhHNc2oAhAk8qvMvEv7Uf7SPiX9ib4/%2BMPAHx88d6HrPwO8dSQ6F4v8AE3gLTbHWPEVgug6bqiwahYXenJFbAy6mYyUtbeYw28Lfu2kc0AffVfnFYf8AFcftJ/s3fCBfnij/AGivjN4nvl7Rf2f4m1loGI95HYA%2BtfoV4y8W6V4E8L3vi/W7TU57TT4TLPDo2iXWo3TLkDEdtaRyTzNz92NGb2r80f2MfiPpfjj9ufX/AIq2MF6mj/DnwH8T9biTVdMnsri3urz4ha44WW3uUSWBzbL80ciK6kFWUEEV5GcyX1aEH9qpTXyUuZ/hA8jOKU8VDD4SCvKrWowS73qJ2/8AJV959D/8E8P%2BLx/tQ/tH/tcz/vbbVPHsXg3w5Mfuix0eERO8R/uSySBs92Q%2B9fXVfMH/AARp8LP4W/4Jt/DQ3Sk3Wq2V7ql7O/355Lm%2BuJg7HudjoM%2BgFfT9VkkWsrpTlvNc79Ztzf8A6Ul8j9U8T61OXHmOw1J/u8NJYaH%2BDDRjh4/f7KUvWb9WUUUV6p8EFFFFABRRRQAUUUUAFFFFABRRRQAUUUUAFFFFABRRRQAUUUUAFFFFABRRRQAUUUUAFFFFABRRRQAUUUUAFFFFABXjP7L/APyW/wDaO/7LNY/%2BoV4Xr2avGf2X/wDkt/7R3/ZZrH/1CvC9AHs1FFFABRRRQAUUUUAFFFFABRRRQAUUUUAFFFFABRRRQAUUUUAFFFFAHjPwt/bd%2BHHxX%2BMH/CptJ8D%2BKdPgvbrW7Xwv4t1S1tV0rxHPpF0LTUorNo7h5w0M24Dz4YRMsUkkJljQvV7WP2sNO8J/HDT/AIJ%2BPvgx4y0D%2B3pL%2BLwp4nv20uXTtdls7V7uaOBba%2Bluoj5EUrg3EEKnyyN25kDeUfCb9kH9pD4bfE3wy14vgi%2B8I/DLXfFWp%2BBpI/EV5FqGrNrd%2B8ipexmxaO0FnaXV3FmN7j7VIInP2YbhW54o/Zo%2BMPjX9sbRf2iz8IfhX4ZPhltUhm8XaPrlzca7400yWwuLa10jUVOmwi2tVmlt7tsXF1tksYgigMxoA9G/ZS/aUm/as%2BFWl/GWx%2BBPjPwXoev6NYat4cl8ZTaQZNTsruATxSxpp1/dmPCMhZZvLYFwADhsY3jj/lIX8L/%2ByM%2BPP/Tt4QrmP2J/2TfFX7PnxE8YeNZPhH8OPhd4e17Q9H07TPhl8J9TmutIguLN7xptTcvYWKJcTJcwQFY7cEpZRl5JDtWPyr9qXxj4b/ZT/wCCun7OHjBNY142fxY0Hxt4Z8QDWPFuoX1pbzTT%2BHHsxa2t1PJBYhrmKJGW3SIMG%2BYNtXGVetTw9N1J7K34tL82jDE4ilhaLq1HaKt%2BLUfzkjrvhR/xJ/8Agsv8WdO6f2z8HtBv8f3vJuHgz%2BuK%2BtK%2BPP283l/ZS/av%2BFv/AAUL09mi0FpB4C%2BKzA/ImkXku%2B0vH7KsF0dzNyTujUV9hghgGUggjgivNyt%2Bzq4jDy%2BKM5S/7dnaUX/6UvVM/SuOofXcDlGb0tadXC06N%2B1XC81GrB%2BaTpTXeE4vuFFFFeufngUUUUAFFFFABRRRQAUUUUAFFFFABRRRQAUUUUAFFFFABRRRQAUUUUAFFFFABRRRQAUUUUAFFFFABRRRQAUUUUAFeM%2BOP%2BUhfwv/AOyM%2BPP/AE7eEK9mrxnxx/ykL%2BF//ZGfHn/p28IUAezUUUUAFc78WPhP4B%2BN/gK9%2BGfxN0NtQ0e/eCSaGK9mtpY5YZkngnhngdJYJopoo5Y5YnWSOSNHRlZQR0VFAHnHhb9lH4L%2BCPh7dfC/whZ%2BJNN0i9tJ4boWfjzWI7qV57qS6nuzdC7%2B0fbZJ5ZJHvfM%2B0uW%2BaUgADE8V/sGfsy%2BNfgJdfs0a94Z8Rf8IjqOoy3%2Bs29l8Q9ctL7V7iXd5r32oQXiXl9v3neLiaQPtTcD5abfYqKAMzwb4T0vwJ4V0/wdol1qc9pptqlvbzazrV1qN26KMAy3V3JJPO/q8rs57k1%2BUf7Nl7d%2BHvCX/BR/403knFj4k8YeHdFl/wCeTHVNdd1B/wCutzE1frfX5OeKdBvPAf8AwSr/AGvtYs4/%2BJh4/wD2tvGdtYE8GVX8YrZbB7AQz/ma8DiFNYP2i%2BwqkvupTS/GR7nBeVf2z4k8P4WXwvGUW%2B1lKO/lv%2BJ%2BiH7DnhP/AIQb9jH4T%2BEmi2SWPw50aOdcY/e/YojIfxcsfxr1OqXhvRLXwz4dsPDdiMQafZRW0Ix/BGgUfoKu17OHpKhh4U/5Ul9yS/Q5M4xzzTN8TjXvVqVJ/wDgdSc//bwooorY84KKKKACiiigAooooAKKKKACiiigAooooAKKKKACiiigAooooAKKKKACiiigAooooAKKKKACiiigAooooAKKKKACvGf2X/8Akt/7R3/ZZrH/ANQrwvXs1eM/sv8A/Jb/ANo7/ss1j/6hXhegD2aiiigAooooAKKKKACiiigAooooAKKKKACiiigAooooAKKKKACiiigAorzjwF%2B1t8APib8WtS%2BCHgvxtPdeItLa/WSGXQr6C1umsZ0tr5LS8lhW2vWtp5EhnW3kkMEjBJAjcVJD%2B1P8GG%2BLx%2BBuo6rrml%2BIHa5Wz/t3wbqun2GoNbxmWZLS/ubaO0vGSINIVgmkOyORsYRyAD0Ovhr/AIK7fAvVfj5420DQvCQkXxL4f%2BCHjnxH4TuIB%2B%2Bi1Gw1jwfcx%2BX6O6o8Q/6619QfAL9q/wCA/wC07HqEnwW8YXWpHTba0u547/QL7Tnks7sSG0vYVvIImuLScQzeTdRB4JfKk2O2xsc945AP/BQr4XgjIPwZ8eZH/cW8IVhisPDF4adCe0k196/TR%2BqObG4WnjsHUw9T4ZxcX81a/qtGvNIp%2BGp/h/8A8FJ/2ALOXX44/wCyvif4FVb4RKG%2Bw3bx4crn%2BOC5Q4/2oRXPf8EtfjZ4s%2BJP7Nx%2BFHxZkK%2BPvhNq83g3xnDI5LvNZnZBcZPLrLAIz5nR2VyM1yf/AATOP/ChPi38a/2Bb4%2BTbeBvGJ8Q%2BB4G4X%2BwNVH2iOKP1WGXcrEfxy4qH9rTwH8Vv2MPj9qP/BRn9nzQLjxB4e1ixtrX45eA7OMGa8srZSsWr2nTM9vGSGU8FATwC7D5%2BGIqxpUcxkruKdOqlvZOzlbryTjzd%2BWTttY%2B88N8YuLeFK3DGLnGNepKNTDuTUYrF0r0alLmdlFYmn7kXJqPtY0OZrmUl9i0Vznwk%2BLXw8%2BOvw40j4tfCrxPb6xoGuWa3OnX9s3DqeCpB5R1YFWRgGVlKkAgiujr6WE4VIKcXdPVNbNHyWJw2IweInQrwcJwbjKMk1KMk2mmnZpppppq6aCiiiqMQooooAKKKKACiiigAooooAKKKKACiiigAooooAKKKKACiiigAooooAKKKKACiiigAooooAKKKKACiiigArxnxx/ykL%2BF/wD2Rnx5/wCnbwhXs1eM%2BOP%2BUhfwv/7Iz48/9O3hCgD2aiiigAooooAKKKKACvzi/aBhg1b9k/4d/C23hQf8Jn%2B3br%2BnXMSKBviPjvxBLI59QPLXJr9Ha/OWb/iqPjd%2BzR8L/vC5/ai%2BMGutH/2DfEmtShvw8yvJzvXLZw/mcI/%2BBTgvyufoHhd%2B743w%2BJ/58QxFb/wVhcTNP5PlfyP0aooor1j8/CiiigAooooAKKKKACiiigAooooAKKKKACiiigAooooAKKKKACiiigAooooAKKKKACiiigAooooAKKKKACiiigAooooAK8Z/Zf8A%2BS3/ALR3/ZZrH/1CvC9ezV4z%2By//AMlv/aO/7LNY/wDqFeF6APZqKKKACiiigAooooAKKKKACiiigAooooAKKKKACiiigAooooAKKKKAPjH4I/An9o74f/FPwRoPiP4Dap/Yfwl8S%2BNtSh8U2et6U6%2BKU1rUZTZLaxNdrMhS3vJJ7r7SsIWW1Cw/aN6tV/8AaJ/Z1%2BKv7TH7TVjqWhfBnxn4Ut7DS/Emi63418V%2BNLS90O50680W9sYJdI0uLUZ2tL1rma0ka5%2By2kn2eO6id380Kfr%2BigD5j/Yp%2BGHx4j%2BKknxW%2BNPwWm8AjR/g94b8DwaVcaxY3h1K8sZr2a7u4TZTSqLMGeFbcy%2BXO26YvDDhQ2rf%2BC/Enh7/AIKbeC/EWrfFzxDrtnq3we8cPYaDqttpyWmihdW8JZS2a2tIp3D7hn7RLOfkG0r82foevGfHH/KQv4X/APZGfHn/AKdvCFAHGft2fspfEfxP4i0f9sj9kq7j074yeA7Vks4JG223irS9xeXSLoZAYNljGxI2ueq5Dx%2Bi/sgftZfDz9sj4PQ/ErwbbzWF7bzvYeKfDGoDF5oeox8TWc6EAgqc4JA3KQcDkD1SvmH9oj9gbxlP8WL/APat/Yk%2BL0nw3%2BJ19HH/AG7aTxedoPioRjCpqFsAcPjjz0BZck7Sx3DyK9CvgsS8Tho80ZfHBWu3/PG%2BnN0ktOdW1Ukm/CxGGxWXYuWMwcOeM/4lNNJt9JwvZc9laSuudW1U0m%2BS8YfsyftJ/sGePdc%2BNv7AGjWnijwHrt%2BdS8Y/Aq7k8jy5yP3t1o83IhkYDJgI2nGFD4jRPbf2Vf24PgB%2B17os0nw18SSWXiDTy0ev%2BCtei%2ByaxpEynDxz2zHcNrcb13ISCN2QQPI/A3/BVTQfhprUPwn/AOCiHwy1H4NeMRL5Cand20tz4c1c9prS/jDKqnBYrIQE%2B6XJBx3Hxs/Yn/Yz/botLP4xWn2Ya9tWTQ/ij8OdbW21KJlGEkjvLclZto4AkDhewFcOFkoybyyaa%2B1Rk3FxfXluuam7/ZcXC%2B1j9WwPHXCXHlFUOInKOKglFYqlFOukkoqOLoScHW5UklVi4YhJJOVdJM%2BgqK%2BPYNE/4Kz/ALJiG08Oap4X/aN8I2p/cQazcjQ/FCRDonnnNtOQP433SOR0GcVq%2BGP%2BCwP7MmnavD4N/aY8NeM/gx4jdth0v4i%2BGZ7eGRx1MV1GrxPH3DsUBHNd8c5wkHy4lOjL%2B%2BrL5TV4P/wJeh0VfDXiDEwdbJJU8xpLW%2BGlzzS7zw75MTDzvRmlr773Pq2isD4e/Fb4X/FvRl8R/Cv4jaF4l09gCL3QdWhu4uf9qJmFb9epCcKkVKLun1Wq/C58JXw%2BIwtaVGvBwnHRxknFp9mpKLT8mkFFFFUYhRRRQAUUUUAFFFFABRRRQAUUUUAFFFFABRRRQAUUUUAFFFFABRRRQAUUUUAFFFFABRRRQAV4z44/5SF/C/8A7Iz48/8ATt4Qr2avGfHH/KQv4X/9kZ8ef%2BnbwhQB7NRRRQAUUV5D%2B2v8SPH3w8%2BE%2BkWXwy8StoWseLPH/h3wxD4iS0hnfSYtQ1O3t57mOOdHiaYQvIIvMR4xK0ZdHUFGAPXqK%2BUrD4y/tUT/ALIfxQsPBviDUfFXjv4ffEa78M2/ii10G1l1K%2B0uK%2BtWmv47OGJLee/g065lxEkQjmubUAQgSeVXnXws/aq/aE%2BOHjiP9lnw98bPHXh8Q/GbU9AX4meIPA2naf4lvdJtvCdhriI9heactrbXDXOorHmSxRja2ufKSSTzEAPvKvzf/Z5v7TXP%2BCjngHTL6cLF4Ln%2BMuvMSCfL%2B1%2BPdYsQcDnJICjHJPFfXn7Lf7ROs%2BOv2K/Cf7Qnxatrq61KXw6sviBvDPh66vXvLiJzBLPbWdoks7rK6GRYo1dgrgc4zXxN/wAEz/EOn/Fz9vr4p/ErSre%2BS10E65pdump6XPZXMKX3xL1a/VJbe4RJoHxyY5EV1OQyggivJzb3lh6f81WH/kvNL/21H6B4f/uZZti/%2BfWAxVvWoqNBff7WSP0o/wCEw0n/AJ9NU/8ABHd//GqX/hMNJ/59NV/8Ed3/APGq%2BdvH3/BZH/gm98L/AB3rXw08c/tG/Ydb8O6tc6ZrFl/wiGsS/Z7q3laKWPfHaMj7XRhuUlTjIJHNZP8Aw/L/AOCWn/R0P/lk63/8hVUs8yWEnGWJppr%2B/H/Mzo%2BFviZiKMatLJMXKMkmmsPVaaaTTTULNNNNPqmn1Pp//hMNJ/59NV/8Ed3/APGqP%2BEw0n/n01X/AMEd3/8AGq%2BdvAP/AAWR/wCCb3xQ8d6L8NPA37Rv27W/EWrW2maPZf8ACIaxF9ouriVYoo98loqJud1G5iFGckgc1337f3xg%2BJn7Pv7E3xT%2BOPwbtNNm8T%2BEvA%2Boaro66vMyW6ywQtJvfbHJu2qGYJtw7KELIGLr14XG4PGxcsPUjNLfladvWx8/nnDPEnDFaFLOMFVw0ppuKq0503JJ2bSmk2k9G110PS/%2BEw0n/n01X/wR3f8A8ao/4TDSf%2BfTVf8AwR3f/wAar571P9tz42%2BFfiH458F/EL4FeBNC0/4ZfDy08TeOfE938VLo2Nu93FqjW9tbY0cSzqH0%2BMSyukRRLgtHHM6CKTmfht/wUq1f4q6p4Z0PVvhPq/hfW4vjRL4O8Q6Qst5bQyIfB%2Boa/DPt1jR7S9eF0hiTb9ntJBKgZZZIVK3HSeGfVX/CYaT/AM%2Bmq/8Agju//jVH/CYaT/z6ar/4I7v/AONV88/slft8/En9ofT9EuPHP7MH/CP3fiz4TaL8QfCel%2BHvGsOqz3WnXzBHgnNxBZRW9xCXiYqHkR0fIcMpjrqf2q/FnxV1L4tfC/8AZ4%2BFvxX1DwI3ja61i61bxXo2m2N1exW9hZCRbaBb%2B3uLdWkmmhZmeJz5UEqrtZhIgB67/wAJhpP/AD6ar/4I7v8A%2BNUf8JhpP/Ppqv8A4I7v/wCNV85QftCftI/E/wD4JkeEPj/8PrS5/wCE513SPDs3iG78K6Gt7cW9pLf2kWsahp1lIsgnlSzN5c28BWXcyxrsnOI34vwF8cf2lfjR%2BzV8QdQ8C%2BLvjbqGu/DP4lX%2Bh6Vc%2BHfCnhfTPEniizFjaXlvLeWevWcNpBsF6EZI4raZvIH7tXLRUAfYP/CYaT/z6ar/AOCO7/8AjVH/AAmGk/8APpqv/gju/wD41XwpoX/BQH4r%2BNPFXhHW/GXxC8W6d4P8PfCfwD4o8ceKvhT4a0mbRr271xp/OuLxtYia8TTCbdURLGIXUavO8zRhUK39T/bI/ag%2BEf7QMmhfFbxJ4isW1zX/AB7ZSaT4s8DJaeEfDumabaajqGiapbapFarNeiaysIXuVFzcbWuZQ0dqyRxkA%2B2/%2BEw0n/n01T/wR3f/AMaq/YX9pqdol9YziSKQZVgCO%2BCMHkEHIIPIIr5L/wCCaXx3/aX%2BI3jHxP4G/aW1fxct3B4B8K%2BINN0r4g6XolvqfmX39ord3NudFjW3Omu9tEkEc/8Ap0TxXH2hEDw7vqXwf/yCZv8AsKX3/pXLQBq0UUUAFFFFABRRRQAUUUUAFFFFABRRRQAUUUUAFFFFABRRRQAUUUUAFFFFABXjP7L/APyW/wDaO/7LNY/%2BoV4Xr2avGf2X/wDkt/7R3/ZZrH/1CvC9AHs1FFFABRRRQAUUUUAFFFFABRRRQAUUUUAFFFFABRRRQAUUUUAFFFZvjLTdZ1nwhqukeHdS%2BxahdabPDYXmSPImaNlSTI5G1iDx6UAZXw5%2BNvwY%2BMNxq9p8I/i74Y8Uy%2BH782OvxeHNftr5tNugSDBcCF2MMgKt8j4bg8cVj%2BHv2r/2WvF2j%2BKPEXhP9pXwBqmn%2BCLWW58aX2neMrGeHQIIlkaSW9dJStqiLFKWaUqFEbkkbTj5i/4J92Gt6B8QPAl3cfA7xr4Ms/Cf7P3h34e%2BJYNX8DahaJNr0Esji2jZoAtzb2ixXR%2B3IWtCdQUJOxkYDKih8D/tvah8bdb%2BMfww%2BLHgPw9dfB/Xvhv4e8P23wY1%2By1GPw3cv5V9qSPNpphurudxE9pZQCd4oIQ5jZ55oogD7M%2BFfxn%2BD3x18NyeMvgj8V/DXjHR4rtrWXVfCuu2%2Bo2yTqqs0Rlt3dQ4V0JXOQHU45FefeOP%2BUhfwv8A%2ByM%2BPP8A07eEKp/sQ%2BN/jR4z0vxqPiTq3i/WvDun%2BKkg8AeJ/iB4LHh7W9WsDY2zzNc2P2W02iO7e5ijkNrbmRIwdjACaXKv9N%2BK9p/wU28F3njbxp4e1DQrj4PeOD4a07SvDE9nd2CDVvCXmLc3Ml7Ml2TlMFIbcLtOQ24bQD6HooooAz/FHhPwt440K48LeNfDWn6xpl2my707VLNLiCZfR45AVYexFfMnin/gj7%2BywmvXPjH4A%2BIPHPwc1q5fzJL34XeLZ9Oid%2B2bdt8QXsURVBHHFfVdFcmJwGCxlvb01JrZtar0as18mjhxmWZfmFvrFKMmtm1qvSStJfKSPkZP2aP%2BCrnwsHlfCf8A4KBeGPG1lF/x66d8T/AKRuo/uvd2TGWX/eIB5qn4i8ff8FbLfRpvDXxa/YN%2BDnxQsZF23Vr4b8c/Yre6H/XPVEYY/wB4V9i0VyPKIJWpVqkV25%2BZfdOM/wAzkp5PLDTU8Liq1JrVWqN2fS3OpNW6Wloflh8QPgV4C1TWW8UeJ/8Agh58UvAGvISV1j4M%2BNIPMtyepiSzkjhP/fusFfjZ%2B1b8IBt%2BEvxM/bZ8PQQfdsfiv8DLbxNAw/ufaWmVwv8AtKuR2r9baK8yXDCUnKlXcX3UIxf3wlT/APST7qhx74oUaMaNXOZYmnHRQxVDDYuKXZe3hOSX%2BGcfv1Pyc07/AILTft4fDVzF45%2BF/hjxVZw9HuPAPiLRdQk9d48qWBT9OK67wl/wcm%2BBomEXxe/Y58YaKVOJZNG1OO8H1CzxWx98E1%2BmtFVDJ8%2Bov93mDt2lTjL82n%2BJjiuJsyxsH9YwOAcv5oYatQf3UcZyX/7cXkkfD/gv/g4S/wCCcfikJ/b3ifxZ4aLfeGt%2BFZZNn1%2ByNP8Apmuztf8Agt5/wS6uyBF%2B1NAM/wDPXwnrCf8AoVoK%2BqZ7O0uRi5tY5B6OgP8AOuO8U/s2/s6%2BOWZvG3wD8FawX%2B%2BdV8LWlxu%2BvmRnNdnsOIYRsq9OT86cl/6TUPmXHMa1e8506ce0Kc5f%2BnK/6nii/wDBaD/gmO3T9q3S/wAdE1Ef%2B21Kf%2BCzn/BMkf8AN12lf%2BCbUf8A5HrovFX/AAS0/wCCd/jHd/a/7IHgmHf1/srSRY/l9mMePwrhr7/giD/wTtErXHhL4Xa74alY5MugeONTiIPqBJO4H5Vy1P8AXCL932Ev/Bi/O/5nv4TK8nrR/f5rKm/%2BwHnX3xx0X9yNVv8AgtD/AMEx06/tWaZ%2BGh6kf5W1RP8A8FrP%2BCYUf3v2qrH/AID4c1Q/ytawZP8AgjN8L9MbzfAn7Yf7QPh4r/q4bD4jh4R7FJIG3D2zTo/%2BCZ37R3h3/kQP%2BCnXxEtdv%2Br/ALe8N6bqmPr5iLmsfrHF0fipQ%2BVn%2Bc4noLhPK6y/c8TYeP8A18y/HQ/GNaqvuRqy/wDBb3/gl1D9/wDamgP%2B74S1hv5WdQN/wXL/AOCXOdsP7TLyn0j8E62f/bOq8X7I/wDwVI8Nf8i7/wAFM/Durqv3Itb%2BCGmwfgWgfJ%2BtTr4D/wCC1fh9dukfHT4A66F%2B6Na8Mana7vr9mJx%2BFH13iJfHTa9KSl%2BWIH/qBj6v8DibLJescVT/APTlJB/w/B/4JtOM2nxq1a49PJ8Cawf52opf%2BH2n7AUn/Hn4z8V3Hp5Pw%2B1U5/OAUf8ACU/8FuNE/wCQn8LP2ctbx1/sbW9Ztt30%2B0A4o/4aE/4K7aN/yE/%2BCePgjWsdf7H%2BLUFtu%2BnnocfjR/aGar4pSX/ctP8ASrIP%2BIZcYVP4OdZZP/DiKS/9OTpCf8Pp/wBi6T/jytfiHc%2BnkfDjUTn84xR/w%2BY/Zck/48vhr8XLn08j4ZXpz%2BYFL/w2t/wUb0v/AJGf/gkTrMYHVtJ%2BL%2BkXufcBUH5Uf8PGv2kdM/5Gf/glb8ZYsfe/so2d7%2BWxxmj%2B0sT9rEW9cNUX53D/AIhP4lz/AIeKws/8FbBS/wDd5Cf8PiPgZJ/x4/s5/Ha69Ps/wruTn82FH/D3j4ey/wDHj%2Bxd%2B0jden2f4SSnP5zCl/4esXun8eJf%2BCbn7UNnj70kPwtE8a/VluP6Uv8Aw%2BE%2BCFp/yMX7N3x30fH3v7T%2BFdyu367Waj%2B0u%2BPivWi1%2BaQf8Qf8XpfBDm/wRws//ScbP8hv/D2ewl/48f8AgnT%2B1Xc%2Bhh%2BDxx%2BtyKP%2BHqHiaf8A48P%2BCZP7UDen2j4apF/O4NO/4fV/sNWn/Iw6n440jH3v7S%2BHeprj67YWqW0/4Le/8Ew7mTyJv2l/s0veO78H6xGR9SbTH60/7SovfM4L/tymvzkJ%2BDXjPa/1PFNf3cGpfjGUyD/h5v8AFuf/AI8P%2BCXX7Qben2jwzBF/OY0f8PHf2j7j/jw/4JWfGdvT7QtpF/NzXQ6f/wAFg/8AgmrqePs37WWgLn/n4tLuH/0OEVt2H/BUL/gnnqWPs/7YPgVc/wDPxraRf%2Bh4rWOJpz2zOPyVH/M4K3hZ4q0P4uGxi/7kpL/3Ezg/%2BHgf7Ylx/wAeH/BJ34lN6faPEmnxfzJo/wCG6f2%2Brj/jw/4JHeLW9PtHxJ0uL%2BamvVrH/goJ%2BwjqWPsv7Zvwtyeiy%2BPdPjJ/Bpga2bH9sL9knVMf2b%2B1J8ObjPTyPG9g%2BfymraKc9swv6ex/4J5lXgPjuj/Fji4%2BuFa/PDHiH/DZ/wDwUvuP%2BQf/AMEf9Qb0%2B0fG7Rov5xmj/hrP/gqvc/6n/gklZ23/AF8fHnSHx/3zFX0PZfH/AOA%2Bp4/s342eEbjPTyPElq%2BfykrXsvH/AIE1LH9neNdIuM9PI1KJ/wCTVtHCVp7Y2b9PZfpBnnVeGc/o/wAXEYiPrThH86CPmH/hpT/grdc/6j/gmj4Wtv8Ar5%2BMlm%2BP%2B%2BI6P%2BF6/wDBYS5/1P7B/wAObbP/AD8fFBXx/wB8JX1lBc29ynmW06SL/eRgR%2BlPrT%2BzcQ/%2BYqp/5J/8rOR5Pi72lja3/lNf%2B4j5K/4Wv/wWZuf9T%2Byb8Hbb/r48d3L4/wC%2BFo/4Tn/gtfc/6n4GfAC2/wCvjxNqb4/74FfWtFH9mVOuJq/%2BBR/%2BQF/Y1V74yt/4FFflTPkr%2B2/%2BC4tz/qfBP7Mltn/n41LXnx/3zVT4KN%2B3U/8AwUL8GN%2B2pH8J0B%2BDPjL/AIRlfhgdTJH/ABNvCv2j7V9u/wC2Gzy/%2Bmm7%2BGvsCvGfHH/KQv4X/wDZGfHn/p28IVrQwDo1VN1qkrdJSuvmuVfmb4bK3h6yqPEVZ26SneL9VyK/37ns1FFFegeoFc78WPhP4B%2BN/gK9%2BGfxN0NtQ0e/eCSaGK9mtpY5YZkngnhngdJYJopoo5Y5YnWSOSNHRlZQR0VFAHnHhb9lH4L%2BCPh7dfC/whZ%2BJNN0i9tJ4boWfjzWI7qV57qS6nuzdC7%2B0fbZJ5ZJHvfM%2B0uW%2BaUgADLvv2G/2adQ%2BGdh8KZPCGsRWGm%2BIJdds9Vs/Gurwa0mqSxyxS3p1eO6XUHuJIp5onlacs8UjRsSh2163RQBleBfA/hH4ZeCdI%2BHHgDw/baToWgaZBp2jaXZptitLWGNY4okHZVRVUewr8%2BP%2BCQ3h93/AGiP2xfHkoLC5/aTutMhY/wi38R6k7KPTm4BNfo5XxH/AMEnvCzaP4I/aI8STx/vNa/bR8byI%2BOsUXiMQqPwZJPzrz8XT9pisO/5ZSf/AJJJfqfXcPY1YPIM4jfWrRpU/vxVKT/Cmj7cor5i8f8A/BTX/hAvHet%2BBf8Ah3z%2B09rX9i6vc2H9saB8J/tNhf8AkytH59tL9pHmwvt3o%2BBuVlOBmsj/AIew/wDWNT9rT/wzf/3VWcs6yyMnF1NV/dn/APKz84lxDk0JOMquq0%2BGp00/59H1pWL8R/h54M%2BLnw%2B1z4VfEbQYtV8P%2BJdIudL1zTJ2ZUurS4iaKaIlCGAZGYZUgjOQQea%2BfPAP/BTX/hPfHei%2BBf8Ah3z%2B09ov9tavbWH9sa/8J/s1hYedKsfn3Mv2k%2BVCm7e74O1VY4OK9m/aT8YfE74efALxf8Qfgz4ctNZ8T6DoFzqWj6Lewu6alJAhlNqAjoQ8qo0aNuwrurEMAVPXhsZhsZFyoyulvpJf%2BlRj%2Bp24PH4PMIuWHlzJaPSS8/tRj%2BFzGg/Y1/Z4Xwr4p8Han4Q1LV7Pxr4bt9B8VS%2BIvFep6ndalYQfafJjkubu5kn3p9rnxKHEo3L8/wAibc7wP%2BwV%2By18PdSXXPD/AIC1KbUh4uHiiXVta8Y6tqV5cauNIm0YXc1xeXUss7DT55bfEjMu0qcbkRl8N8R/8FH/AIm/Ejwtc%2BMf2XG0PVbDxH47m0j4USxeEl1RvEGnWGkLdareyNc63pVtDHFd%2BfAHa4XaLNwElaQeXxPg39ur4jfFzxHonx4svtNrp3jz4Zfs76rH4UbX737DpU/iLxdrttfyQfZp4tzmLyUZjlJ1tYVmSWJfKPSdh9h%2BGP2TvgR4JsdEsPB3hO90pfDnga08HaJNp3iPUIZrTRbV43gtVlScOdpijzIWMjAEM7BmB0fjf%2Bz18Kf2idE0/Q/ilo%2BozDSNRN9pF/oniK%2B0i%2BsbgwywM8N5YTQ3EW6GaaJwkgDpIysCpIr5N%2BCf7VP7UHxu/ak%2BEHjDU/FXhH%2BxPHfwt8f634c%2BHulXV7p7Wslnf6NBbQatKZrhLqWPzSjXCW0RtpHuEWKTOT7d%2B2/q3iSfTPhR8N5fFWq%2BHdI8d/Few0PxnqXhvXbjT7qGzOn390kEN7btFPb%2Bfe2tna%2BZG0cjLcFVKlxQB6FJ%2Bzv8LE8Bj4YaNY6xougReHLDQrLTPDPivUdKj0%2BxsyTbpafY7iI2bqDtMsBSV0REZ2WNFXnbv9iX9n6f4ead8LbGw8W6XpGm3V5cg6B8S9e027vZ7tzJcy3t3a3sdxfvK5Lu1zJKWY7iSea8v%2BEWo/tC/FP/AIJt%2BN9D%2BE/xJu5/GlnqXjvw54B8Waxqpa4uLfT9e1TT9MuJLyUOWlNrbQD7W4cu2J237jnzH4b/ABG0Ww8K/Gzwp%2B0a/wAY/CfgLwF4z0IeGdEm%2BMGo33iqbVLvS4t2hrqOmalNc3MstxNbzRWaXsrE3sIJVWEMYB9O%2BI/2F/2V/FF14dmv/hYLe38LaPpuk6XpOk61fWGnSafp0vm2FndWVtNHb31vbSFnhhuY5UiLuVUb2zpxfsl/AhviDrPxP1nwvqOt6trun3thdjxN4o1HVbS3tLwqbu3tbS8uJbexim2IJEto4lcIoYEACvi79p7RP28Pgt%2ByRpvxS%2BI%2BueOtRvPBvwP1m8STwz8UU06Xw34mSQ3Flday/wBpg/tyGG3ENs423gmlglJtZvtIYdR8RfE/7Xnw3/as8JePfE%2BheL5Ljxr8X/DmnaHJafEEL4dtvD1xo8C6lpL6J9qzJfQzR6jfGc2rsIo1k%2B1qqfZwAfVfwI/ZT%2BB37Nk2oXnwm8OanBdanZWdld3%2BueKdS1i5%2Bx2nm/ZbRJtQuJ5IraHzpjHAjLEhmkKqC7E9j4P/AOQTN/2Fb7/0rlrUrL8H/wDIJm/7Ct9/6Vy0AalFFFABRRRQAUUUUAFFFFABRRRQAUUUUAFFFFABRRRQAUUUUAFFFFABRRRQAV4z%2By//AMlv/aO/7LNY/wDqFeF69mrxn9l//kt/7R3/AGWax/8AUK8L0AezUUUUAFFFFABRRRQAUUUUAFFFFABRRRQAUUUUAFFFFABRRRQAUUUUAFFFFABXjPjj/lIX8L/%2ByM%2BPP/Tt4Qr2avnD9o/V/jXo/wC3h8J5/gd8P/C3iLUm%2BEfjtbu08V%2BMLnRYI4P7U8JEuktvp96zvu2jYY1GCTvyApAPo%2BivGf8AhOP%2BChf/AEa/8Gf/AA/Grf8AzL0f8Jx/wUL/AOjX/gz/AOH41b/5l6APZqK8Z/4Tj/goX/0a/wDBn/w/Grf/ADL0f8Jx/wAFC/8Ao1/4M/8Ah%2BNW/wDmXoA9mor5x0n9o79u3WPjPr/wOt/2UPhIuqeHfC%2Bka7eXL/HXVPIkg1G51K3hRCPDG4uraXOWBUAB48FiWC9R/wAJx/wUL/6Nf%2BDP/h%2BNW/8AmXoA9morxn/hOP8AgoX/ANGv/Bn/AMPxq3/zL0f8Jx/wUL/6Nf8Agz/4fjVv/mXoA9morxn/AITj/goX/wBGv/Bn/wAPxq3/AMy9cv4B/aO/bt%2BInivxv4Q0f9lD4SQ3HgPxRFoWqyXPx11QJPPJpWn6mHi2%2BGCSnk6jCpLBTvRxjADMAfR1FeM/8Jx/wUL/AOjX/gz/AOH41b/5l6P%2BE4/4KF/9Gv8AwZ/8Pxq3/wAy9AHs1FeM/wDCcf8ABQv/AKNf%2BDP/AIfjVv8A5l6P%2BE4/4KF/9Gv/AAZ/8Pxq3/zL0AezUV84/CL9o79u34y%2BFLvxf4c/ZQ%2BEltb2fijW9CkjvfjrqiuZ9L1W60ydxt8MMNjTWkjIc5KMpIU5UdR/wnH/AAUL/wCjX/gz/wCH41b/AOZegD2aivGf%2BE4/4KF/9Gv/AAZ/8Pxq3/zL0f8ACcf8FC/%2BjX/gz/4fjVv/AJl6APZqK8Z/4Tj/AIKF/wDRr/wZ/wDD8at/8y9cv8Ef2jv27fjx8GPCHxx8K/sofCS10vxn4X0/XdNttQ%2BOuqLPDBd20dxGkgTwwyhwsgDBWYZBwSOaAPo6ivGf%2BE4/4KF/9Gv/AAZ/8Pxq3/zL0f8ACcf8FC/%2BjX/gz/4fjVv/AJl6APZqK8Z/4Tj/AIKF/wDRr/wZ/wDD8at/8y9cv8bv2jv27fgP8GPF/wAcfFX7KHwkutL8GeF9Q13UrbT/AI66o080FpbSXEiRh/DCqXKxkKGZRkjJA5oA%2Bjqiu7Gyv4/KvrOKZP7ssYYfka8e/wCE4/4KF/8ARr/wZ/8AD8at/wDMvR/wnH/BQv8A6Nf%2BDP8A4fjVv/mXo3Gm4u6PR9Q%2BFHwt1bP9q/DXQLnPX7Ro0D5/NTWHqH7Ln7M2rZ/tX9nXwJc56/aPCNk%2BfzirlP8AhOP%2BChf/AEa/8Gf/AA/Grf8AzL0f8Jx/wUL/AOjX/gz/AOH41b/5l6ylh8PP4oJ%2BqX%2BR30c3zbD/AMLE1I%2BlSovyqI0b/wDYU/Yj1TJ1H9jv4WzE9Wk%2BH%2BnE/n5Oaxr7/gmv/wAE/wDUc/aP2OPh0uf%2BeHhW2i/9AUVz/wAXf2jv27fg14UtPF/iP9lD4SXNveeKNE0KOOy%2BOuqM4n1TVbXTIHO7wwo2LNdxs5zkIrEBjhT1H/Ccf8FC/wDo1/4M/wDh%2BNW/%2BZesJZfl8t6MH/25H/5E9OlxjxfQ/h5liF6Yiv8A/Ljn73/gk9/wTl1DPn/si%2BElz/zwtpIv/QHFZF7/AMEaP%2BCZl/nz/wBlLSVz/wA8dX1CP/0C4Fdv/wAJx/wUL/6Nf%2BDP/h%2BNW/8AmXo/4Tj/AIKF/wDRr/wZ/wDD8at/8y9YyyfKJb4en/4BH/I9Gl4keIdH%2BHnGKXpiK3/yxnms/wDwQ9/4JgSP5sH7NLW7/wB%2B28Z6yhH5XmKZ/wAOTP2AYP8AkE%2BCPFVh6fY/iBqq4/76uDXpv/Ccf8FC/wDo1/4M/wDh%2BNW/%2BZeuX8fftHft2/DvxX4I8Iax%2Byh8JJrjx54ol0LSpLb466oUgnj0rUNTLy7vDAITydOmUFQx3ugxgllj%2Bwsk/wCgaH/gKX5WOteK/ifazzrFP1r1Jf8ApTkcz/w5l/ZNg/5BXjP4p2Hp9j%2BJd8uPzY0f8OffgtB/yC/2mfj1Y%2Bn2T4q3Ax%2BaGvTv%2BE4/4KF/9Gv/AAZ/8Pxq3/zL0f8ACcf8FC/%2BjX/gz/4fjVv/AJl6X9hZP0oR%2BV1%2BUkP/AIir4jv4s0qv/F7OX/pVGR5j/wAOk/DsH/IL/b7/AGobH0%2ByfF5xj87c1T%2BCv7Kdz%2BzF/wAFC/BazftL/FX4iLrXwZ8ZbB8TvFg1U6f5OreFc/Zz5SeX5nmjf13eVH0xz61/wnH/AAUL/wCjX/gz/wCH41b/AOZeqHgfwP8AtWeMf2rPDnxu%2BN3w4%2BHvhnRvDPw98Q6HDD4V%2BId9rV1d3WpX2iXCMyXGkWKRRomlygsHdi0qALjJG1DKsvw1VVKVO0l5y/Jza/A8/NOPuMM7wM8HjsV7SnO106dBXs0170cNCa1S2muzurp%2B60UUV6B8eFFFFABRRRQAV85fsQ%2BGNN8Lfs8eLL2xEhF7%2B0N4/wBTvnYZwf8AhPNU3twOipGPwWvo2vkr9krxZ%2B2dp/w98UWfwx%2BAfww1fQk%2BNPxF/s/Ude%2BLuo6bdzL/AMJnrJYyW0WgXKRENuAAmfIAOQTtCaTafYuNSpGEoJ6Stfzs7r7nqfUH/Cc%2BCf8AocNL/wDBhH/8VS/8Jz4J/wChw0r/AMGEf/xVeW/8Jx/wUL/6Nf8Agz/4fjVv/mXo/wCE4/4KF/8ARr/wZ/8AD8at/wDMvTIPUv8AhOfBP/Q4aV/4MI//AIqj/hOfBP8A0OGlf%2BDCP/4qvLf%2BE4/4KF/9Gv8AwZ/8Pxq3/wAy9H/Ccf8ABQv/AKNf%2BDP/AIfjVv8A5l6ANS%2B%2BBn7FGqfDjSfg7qfwd%2BFtx4R0C9%2B2aF4Vn8Paa%2Bm6bc7pG86C2KeVDJullO9FBzI5z8xzoaf8OP2UdJtbWy0rwH8PbaGytNJtLKG30uxRbeDS55LjTIkAUBEtJ5ZZbdRgQSSO8YVmJPmfwR/aO/bt%2BPHwY8IfHHwr%2Byh8JLXS/GfhfT9d0221D466os8MF3bR3EaSBPDDKHCyAMFZhkHBI5rqP%2BE4/wCChf8A0a/8Gf8Aw/Grf/MvQBq2PwP/AGKtL8U63450z4QfC631vxLBdQ%2BI9Yg8P6al1qsd1j7SlzKE3zrLtXzA5IfA3ZxXQeN9K%2BAHxM8EXPwy%2BJGm%2BDvEHhu8hSK78Pa5DaXdjPGjKyI8EoaNlVlUgFcAqCOgriv%2BE4/4KF/9Gv8AwZ/8Pxq3/wAy9H/Ccf8ABQv/AKNf%2BDP/AIfjVv8A5l6AOqHgn9mEeHrfwiPCPgMaTaeG5/D1rpf2Cy%2Bzw6ROI1m05I9u1bWQQxB4APLYRICp2jHP6j%2Bzj%2Bwdq/wwsfgjq3wH%2BEd14L0zU/7R03wjceF9LfS7S8w4%2B0xWrRmKOXEsg8xVDfvH5%2BY54343ftHft2/Af4MeL/jj4q/ZQ%2BEl1pfgzwvqGu6lbaf8ddUaeaC0tpLiRIw/hhVLlYyFDMoyRkgc11H/AAnH/BQv/o1/4M/%2BH41b/wCZegDQb4B/sPvB4WtX%2BC3wpMfgaR5PBMZ8OaZt8Pu8iys1iPL/ANEJkVXJi25ZQ3UA1r2/gH9lq0%2BK8/x5tfBfgCLxzdWgtbnxnHp1iurSwBFQRNdhfOZNqIu0tjCgYwBXMf8ACcf8FC/%2BjX/gz/4fjVv/AJl6P%2BE4/wCChf8A0a/8Gf8Aw/Grf/MvQB6j/wAJz4J/6HDS/wDwYR//ABVHgw79DM6g7Jr67liJGNyPcyMrfQqQR7GvLv8AhOP%2BChf/AEa/8Gf/AA/Grf8AzL1y/wAXf2jv27fg14UtPF/iP9lD4SXNveeKNE0KOOy%2BOuqM4n1TVbXTIHO7wwo2LNdxs5zkIrEBjhSAfR1FeM/8Jx/wUL/6Nf8Agz/4fjVv/mXo/wCE4/4KF/8ARr/wZ/8AD8at/wDMvQB7NRXjP/Ccf8FC/wDo1/4M/wDh%2BNW/%2BZej/hOP%2BChf/Rr/AMGf/D8at/8AMvQB7NRXzj4%2B/aO/bt%2BHfivwR4Q1j9lD4STXHjzxRLoWlSW3x11QpBPHpWoamXl3eGAQnk6dMoKhjvdBjBLL1H/Ccf8ABQv/AKNf%2BDP/AIfjVv8A5l6APZqK8Z/4Tj/goX/0a/8ABn/w/Grf/MvR/wAJx/wUL/6Nf%2BDP/h%2BNW/8AmXoA9morxn/hOP8AgoX/ANGv/Bn/AMPxq3/zL1y%2BrftHft26P8Z9A%2BB1x%2Byh8JG1TxF4X1fXbO5T466p5EcGnXOm28yOT4Y3B2bVICoCkEJJkqQoYA%2BjqK8Z/wCE4/4KF/8ARr/wZ/8AD8at/wDMvR/wnH/BQv8A6Nf%2BDP8A4fjVv/mXoA9morxn/hOP%2BChf/Rr/AMGf/D8at/8AMvR/wnH/AAUL/wCjX/gz/wCH41b/AOZegD2aivnHSf2jv27dY%2BM%2Bv/A63/ZQ%2BEi6p4d8L6Rrt5cv8ddU8iSDUbnUreFEI8Mbi6tpc5YFQAHjwWJYL1H/AAnH/BQv/o1/4M/%2BH41b/wCZegD2aivGf%2BE4/wCChf8A0a/8Gf8Aw/Grf/MvR/wnH/BQv/o1/wCDP/h%2BNW/%2BZegD2aivGf8AhOP%2BChf/AEa/8Gf/AA/Grf8AzL1y/gH9o79u34ieK/G/hDR/2UPhJDceA/FEWharJc/HXVAk88mlafqYeLb4YJKeTqMKksFO9HGMAMwB9HUV4z/wnH/BQv8A6Nf%2BDP8A4fjVv/mXo/4Tj/goX/0a/wDBn/w/Grf/ADL0AezV4z%2By/wD8lv8A2jv%2ByzWP/qFeF6P%2BE4/4KF/9Gv8AwZ/8Pxq3/wAy9W/2Vvhz8afB%2BsfFDx38dNA8L6Tqnj74hRa5Z6V4T8S3OrW9raxaDo%2BmKr3FxZWbNI0mnSuVEW0LIg3Mc4APW6KKKACiiigAooooAKKKKACiiigAooooAKKKKACiiigAooooAKKKKACiiigAr5X/AGnv2tPi58MPjH4s1rwD4d8HyeGPg/4f8P3vjU61pFxNquqW%2Br38qXMFhcR3EaWXkW1nHcZkinFzIUjIh8vzT9UV4z8Z/wBiH4cfG74pH4ma5458VaXFqNrpFr4v8NaNdWqad4pg0u9kvbGK%2BWW3kmCxzTS5%2BzywGWOQxTGWMKgAPZqKKKACiiigD5j8OftK/EyH9v8A8UfB/wCI2seHvCfhtfEFpongyLUfhFrKXXjGAaBBqOIPEbXa6c0sd3c6gBaCF5PLtJgFBZpF%2BnK8r8WfstQeP/jJpHxT8e/G/wAa6vpXh7XY9a0DwBcHTItGsdQjt3gjnDQ2SXsuzzJJFSa6kjEj7tnyIF9UoAKKKKAPF/8AgoL8Xfjh%2Bz9%2ByP40%2BPXwCvfCkeseCdCu9cuoPGGi3N9bXdpa20sz26JbXVsySuyIokLlUBYlH4Fef%2BPP2tPi54L%2BPHi3U/Cnh3whF8PPCHxj8I/D7xlZzaRcHW9V1XXYNFSPUIbtLhYY44P7c0mMxSW8ryJDPiWPagr2H9rH9nGy/a0%2BBGvfs%2B618VfFPhHSfE9lLY65f%2BEF077Xc2UsTxTW26/tLqNEdX5ZEWQFRtdec8XB%2BwD4On%2BItn8RfFXxx8fa6x1nSdc8TaNqEulRWPifXNMSNLHVr2O2sImW4iEFphbZoIGNjbF4mMeSAe90UUUAFeL/ALZPxd%2BOHwStfAPjH4WXvhT%2BxtQ%2BJnhzw94vsfEGi3NzdXNrqus2Omg2csN1CltJGtzLJvkSdSURdnJNe0V5V%2B1d%2By2/7VXhvQvC8/x98b%2BBrfQvElhrqN4Lh0dnu72xvILyzaU6lp94NsVxbxuFjCBuVk3qdoAPOP2ef2lfiZrf7VXi34I/FDV/D3hPTofFOt2/gnwlJ8ItZ0y5162hdJTf2%2BtXF39g1B2Mk0ssVtAX5LsVwxP05Xkuk/soh/jJovxl%2BI/7QHjvxrN4Xu7y78J6F4hGkw2Gj3VzbyWslxEthp9tLK/2eaeFfPklVFnfaASCPWqACiiigDw/9u74ufHj9n74Nav8dfhR4x8C2On%2BFtFuby90XxZ4Zvb%2B58Q3uUWz0yzktr2D7PNcSkW6N5V0zSzxBYWPyt5/8Ef2vvjPrnxL8Ff2t4M8JaR8NPG/xP8AFHw28K%2BGtO0uaPV9Ev8AQIdW3zz3IuGt5oJG8P6miwx28RjVrY%2BZJlgPT/2lf2QYP2kvHngj4gTftA%2BO/CFz4Bu7m90Wx8MRaNPZyXsqCNbyaDU9OvEeeGPzFhkAUxieUj5myKvgP9hr4e%2BA/jLb/F2H4i%2BLtSg07XdT17RPCGpXNl/ZOla3qMbx6hqkCRWqT%2BfOJ7ssrzPCjX1yY4o/M4APa6KKKACvl/8Aa5%2BPH7S/wW%2BImn%2BFNKh8AeNdH8cw61baL8OYvB99JrCWtpod1dyX9xOL14rq2F1Fb20kItYgft8KCYyMiSfUFeHTfsTXEf7R/iv9prRP2q/iXp2r%2BLdNh0650uGDw/PaafZwwNHDbWbXOky3NvEsrvdbFm2vO5dw4O2gBn7CH7Qfjf49/D28uviv4%2B0a%2B8XacLNtf8N2Xwu1fwjeaA89ssogubLV7qe4cFt/l3ACRyKh2htpNe6V5v8AA79m7Tvgz4n8SfEPWPil4p8ceKvFcVjb6x4n8XNYLcvaWYm%2By2qRafa2ttHFG1zcuNsIZmuJCzNkY9IoAKKKKAPjn/goJ%2B3H8VP2MPHP9p65ougeMfCL6NqOt2/hWX4c6nZS26abo19qSSf8JFNdPpk939r00bLFYEuhHMsoG2FpG9e/Zo%2BLvxz1b4qeN/2ev2jrnwpqHifwjpOh61HrXgrSLmwsbmx1QXkaRGC5ubl1liuNOu1L%2BbiRDE2yMkqK3x1/YS8EftOa1dWvx/8Ai3418UeC7mS4kX4ZXkmmw6LFJNYzWTNvt7KO%2BkAjuJmCS3ToHfdt%2BRAvT/s%2BfszaR8A7zXvEV38UPFnjjxH4kNnHq3irxrcWb30ttaRGK1tR9jtreFYog8rDEe9nnld2dnJoA9KooooAK%2BI/2p/2yv2s/g38avEHwo8HeG/DnjXU7DRbjXfDAT4H%2BII5NFA1HTLVDC325x4mkFjqlx539l%2BU8LQlZRGJhHX25Xh%2BvfsW6n4l8en4na1%2B1z8UZtb0%2BC8i8G3hTQAPCq3U0Mk/2SMaTsnZo4Ft916t0yxM4Uq7s5AOq/ZY%2BLD/ABk%2BEcHiy9%2BJmjeKr%2BHUbqy1S%2B0bwZfeHRbXEUrK1rNpuoXE91ZzxjCvHM4fPzbVDAV6NXDfAP4C%2BHvgB4Z1PRtK8U634g1HX9euNb8SeJPEc0DXuq38wRGnlFvFDAmI4oYlSGKONUiQBRgk9zQAUUUUAFFFFABRRRQAUUUUAUfFHiGw8JeGtR8V6qHNrpljNd3IiXLeXGhdsDucKa%2Bc/wBib9pP41%2BP/FOj%2BDPjZ4e8GWY8dfC2y%2BI3hmHwZpVxaDTI7y4Ju9PuzNcSi7mje5tn%2B2IIBO0sxMEe0F/pa7tLW/tZbG9t0mhmjaOaKVQyupGCpB4II4xXkP7M37FfgL9mDVX1fQPiD4t8Sy23hix8M%2BHR4svbWYaBoVm8j2%2Bm2pt7eEtGpk%2BaWczXEgji8yZ/LXAB7FRRRQAVwv7UHjz4i/Cz9mj4ifE74P8AhRde8W%2BHPAur6p4W0NrGa6Go6jb2csttbGGBllmEkqInlxsHbdhSCQa7qs7xbol/4l8Mah4f0vxXqOhXN7aSQ2%2BtaQsDXVi7KQJohcRSxF1PIEkbpkfMrDIIB5d%2BxT8Wp/ih8M76y1b4heH9Z1Pw7qq6deaZonww1Pwc%2BhoLaCSKzuNK1S5nuYXCOJFdvLR4pYtiYG9/Yq88%2BA/7O2k/A688S%2BI7n4ieJPGPiTxfqMN54i8U%2BK3sxd3Rht0t4IhHY21tbRRRxoAqxwpks7MWZmY%2Bh0AFFFFAHy5%2B1R%2B1j8UP2cPi944sviVo3hLxF8L7D9nfxf49ttCt9EuE1V20QaWs9tcXMly9vNFOt9OAgtkKhEy75YV2/wCzP8X/AI%2Bap8XPGX7Ov7Sz%2BErzxR4Y8MeHvEseq%2BCtJubGykstWfUrdbYw3NzcuZYbjSLsGUSBZEeJvLjO5ag%2BMf7Cvh346fHVvjL48%2BO3jmXTZvBWp%2BEb74ewwaL/AGJd6NqS232%2B0kL6a16RO1pA7OLoOpQhGRGZD0n7O/7Luh/s%2B32teI5/ih4t8b%2BIdftbCyv/ABP42ubSS9NhYpItnZj7JbW8flRGe4cEoZHe5ld3dmzQB6fRRRQAV8ifGv8AaX/a28Ga7%2B0B4Et/CvgzxZe%2BAvD/AIU8SfDax0n4f6nfzrHqOq6lCEvLWK8eXUZ4F02OdTbC3JckKvyq1fXdeFy/sUeIYvjp42%2BP%2BhftofFbStW8b6RY6Zc2NlZ%2BGGtNNtrK4uZ7NLYS6K8n7o3l0oMzyl1nIk8wqhUA6v8AZU%2BLc3xl%2BFI8Taj8TtG8U6ja6rc2OrXWj%2BCL/wANmzuIm%2Ba1n0zUbie6tJ0UruSZgxDK21VYV6TXCfAP4B6B8AdC1mx0/wAW654j1XxN4gl1zxP4m8SS27Xuq38kMMHmyC2hhgjCwW9vCqRRRoqQoAuck93QAUUUUAfG37S37Xf7S37PHxmg%2BG2sp8M/Gt9rcEE3hGHTvC17aS%2BC7zUvEOmeHtIm1OV76YXUU7avOC0S2cjixuljDL5hi9x/ZV%2BL/wASPiMPH/w%2B%2BMR0SfxV8NPHjeGtZ1Xw1p01nYan5ml6dq1vcQ28088lvm11S3R42mlxJHJhiCMcLbf8E1fCTXXxDfxD%2B0v8TtZt/iTrx1zWLfUjoXmWepRXEM%2Bn3NtdRaWl0psHt7cWkbzSRRLCgZH5z6x8A/gLofwD8Patptl4v1zxJq3iLXpta8T%2BKPEr2xv9XvpI4ofOmFrBBAuyCC3gRIoo0WOCNQvBJAO6ooooAZc/afs0n2PZ52w%2BV5udu7HGcc4zXxB8Vv2uf20/hp8RNc%2BG1vbeA/GeveGL3w1b6t468EfBXX9Wj8OW%2BrNePe2EulWepT3dzNHDZWN0TFOn7u6haWBAYmk%2B3ruGS4tZbeG6kgeSNlWeIKXjJGAy7gVyOoyCPUGvnv4MfsBeIPgJ8Nrj4afDv9ur4xRR3WrPqc2s3ll4Tn1CW7leWS5nmmfQj9pkneXdJJOJHzGmwoBggHrPwE%2BIdl8Vvg74f%2BIVh8QNG8VJqeniR9f8P6TNYWl3ICVkKWs800tsVdWRoZJHeNlZWO5SB19cl8C/gv4S/Z9%2BF%2BnfCnwVc39xZWEt1cTX2q3Imur67urmW6urqZwqhpZrieaV9qqu6Q7VVcKOtoAKo%2BJ4fElz4b1C38G6nY2WryWUq6XeanYPdW0FwUIjklhjliaaNWwWRZIywBAdSdwvVm%2BMdBv/ABR4Wv8Aw7pfi3UtBuby1eKDWtHEBurFyOJohcRSxF1PIEkbocfMrDIoA%2BHvhv8At2fta/GD4p638EvhZpvw%2BTxnptrrt9J4z8V/C7WtDXVNM0i10WVLGXRLy%2BTUNPle78Q7EmnmePyoZLhIXWdAfsb4BfFrTfj58CfBXx10bTZbOz8a%2BEtN160s5n3PBFeWsdwsbEAZKiQAn1FeLav/AMEyPA%2Bta5ffEW7/AGlPimnxA1ZLy11r4k217pEOrX%2BmXVta202mFE00WcNsUsrRh5FtFKskCyrKHLMfoPwX4P8ADXw88HaT4A8GaTFp%2Bj6HpkGn6TYQ52W1tDGscUa55wqKqj6UAadFFFAHL/GnUfHGjfC3Wtb%2BHPiGx0vVrCzN1Dfah4PvfECJHGQ8oGnWM8FzeSNErqkUMgcuy4Vz8jfFvwl/4KI/H7xJ400PU/G9x4R8CeDNSnnXxB44vPgZ4imttYv4dfutIRLmVb6NPDM8lraWv7jVGklgeVY3zsCV9t/EzwZrvj3wlN4c8N/FLX/Bt5JLG8Wv%2BGYrF7uDawJVVv7a5gYMAVIeJuCcYOCPFbr/AIJzeFNQ8H3Hw21b9pD4m3fhjXNQmv8Ax5oE1xo4i8YXc9411cTX0q6aLiLzSywtHZy2sQhiSNUUbtwB9E0UUUAFFFFABRRRQAUUUUAFFFFABRRRQAUUUUAFFFFABRRRQAUUUUAFFFFABRRRQAUUUUAFFFFABRRRQAUUUUAFFFFABRRRQAUUUUAFFFFABRRRQAUUUUAFFFFABRRRQAUUUUAFFFFABRRRQAUUUUAFFFFABRRRQAUUUUAFFFFABRRRQAUUUUAFFFFABRRRQAUUUUAFFFFABRRRQAUUUUAFFFFABRRRQAUUUUAFFFFABRRRQAUUUUAFFFFABRRRQAUUUUAFFFFABRRRQAUUUUAFFFFABRRRQAUUUUAFFFFABRRRQAUUUUAFFFFABRRRQAUUUUAf/9k%3D\">"
      ]
     },
     "metadata": {},
     "output_type": "display_data"
    }
   ],
   "source": [
    "s.run(tf.global_variables_initializer())\n",
    "\n",
    "BATCH_SIZE = 512\n",
    "EPOCHS = 40\n",
    "\n",
    "# for logging the progress right here in Jupyter (for those who don't have TensorBoard)\n",
    "simpleTrainingCurves = matplotlib_utils.SimpleTrainingCurves(\"cross-entropy\", \"accuracy\")\n",
    "\n",
    "for epoch in range(EPOCHS):  # we finish an epoch when we've looked at all training samples\n",
    "    \n",
    "    batch_losses = []\n",
    "    for batch_start in range(0, X_train_flat.shape[0], BATCH_SIZE):  # data is already shuffled\n",
    "        _, batch_loss = s.run([step, loss], {input_X: X_train_flat[batch_start:batch_start+BATCH_SIZE], \n",
    "                                             input_y: y_train_oh[batch_start:batch_start+BATCH_SIZE]})\n",
    "        # collect batch losses, this is almost free as we need a forward pass for backprop anyway\n",
    "        batch_losses.append(batch_loss)\n",
    "\n",
    "    train_loss = np.mean(batch_losses)\n",
    "    val_loss = s.run(loss, {input_X: X_val_flat, input_y: y_val_oh})  # this part is usually small\n",
    "    train_accuracy = accuracy_score(y_train, s.run(classes, {input_X: X_train_flat}))  # this is slow and usually skipped\n",
    "    valid_accuracy = accuracy_score(y_val, s.run(classes, {input_X: X_val_flat}))  \n",
    "    simpleTrainingCurves.add(train_loss, val_loss, train_accuracy, valid_accuracy)\n"
   ]
  },
  {
   "cell_type": "markdown",
   "metadata": {},
   "source": [
    "# Submit a linear model"
   ]
  },
  {
   "cell_type": "code",
   "execution_count": 22,
   "metadata": {},
   "outputs": [],
   "source": [
    "## GRADED PART, DO NOT CHANGE!\n",
    "# Testing shapes \n",
    "grader.set_answer(\"9XaAS\", grading_utils.get_tensors_shapes_string([W, b, input_X, input_y, logits, probas, classes]))\n",
    "# Validation loss\n",
    "grader.set_answer(\"vmogZ\", s.run(loss, {input_X: X_val_flat, input_y: y_val_oh}))\n",
    "# Validation accuracy\n",
    "grader.set_answer(\"RMv95\", accuracy_score(y_val, s.run(classes, {input_X: X_val_flat})))"
   ]
  },
  {
   "cell_type": "code",
   "execution_count": 23,
   "metadata": {},
   "outputs": [
    {
     "name": "stdout",
     "output_type": "stream",
     "text": [
      "Submitted to Coursera platform. See results on assignment page!\n"
     ]
    }
   ],
   "source": [
    "# you can make submission with answers so far to check yourself at this stage\n",
    "grader.submit(COURSERA_EMAIL, COURSERA_TOKEN)"
   ]
  },
  {
   "cell_type": "markdown",
   "metadata": {},
   "source": [
    "# MLP with hidden layers"
   ]
  },
  {
   "cell_type": "markdown",
   "metadata": {},
   "source": [
    "Previously we've coded a dense layer with matrix multiplication by hand. \n",
    "But this is not convenient, you have to create a lot of variables and your code becomes a mess. \n",
    "In TensorFlow there's an easier way to make a dense layer:\n",
    "```python\n",
    "hidden1 = tf.layers.dense(inputs, 256, activation=tf.nn.sigmoid)\n",
    "```\n",
    "\n",
    "That will create all the necessary variables automatically.\n",
    "Here you can also choose an activation function (remember that we need it for a hidden layer!).\n",
    "\n",
    "Now define the MLP with 2 hidden layers and restart training with the cell above.\n",
    "\n",
    "You're aiming for ~0.97 validation accuracy here."
   ]
  },
  {
   "cell_type": "code",
   "execution_count": 11,
   "metadata": {},
   "outputs": [],
   "source": [
    "# you can write the code here to get a new `step` operation and then run cells with training loop above\n",
    "# name your variables in the same way (e.g. logits, probas, classes, etc) for safety\n",
    "hidden1 = tf.layers.dense(input_X, n, activation=tf.nn.sigmoid)\n",
    "hidden2 = tf.layers.dense(hidden1, n, activation=tf.nn.sigmoid)\n",
    "logits = hidden2 @ W + b\n",
    "probas = tf.nn.softmax(logits) ### apply tf.nn.softmax to logits\n",
    "classes = tf.argmax(probas, axis=1) ### apply tf.argmax to find a class index with highest probability\n",
    "\n",
    "# Loss should be a scalar number: average loss over all the objects with tf.reduce_mean().\n",
    "# Use tf.nn.softmax_cross_entropy_with_logits on top of one-hot encoded input_y and logits.\n",
    "# It is identical to calculating cross-entropy on top of probas, but is more numerically friendly (read the docs).\n",
    "loss = tf.reduce_mean(tf.nn.softmax_cross_entropy_with_logits(labels=input_y, logits=logits)) ### cross-entropy loss\n",
    "\n",
    "# Use a default tf.train.AdamOptimizer to get an SGD step\n",
    "optimizer = tf.train.AdamOptimizer(0.005)\n",
    "# optimizer = tf.train.MomentumOptimizer(0.1, momentum=0.9)\n",
    "step = optimizer.minimize(loss) ### optimizer step that minimizes the loss"
   ]
  },
  {
   "cell_type": "markdown",
   "metadata": {},
   "source": [
    "# Submit the MLP with 2 hidden layers\n",
    "Run these cells after training the MLP with 2 hidden layers"
   ]
  },
  {
   "cell_type": "code",
   "execution_count": 13,
   "metadata": {},
   "outputs": [],
   "source": [
    "## GRADED PART, DO NOT CHANGE!\n",
    "# Validation loss for MLP\n",
    "grader.set_answer(\"i8bgs\", s.run(loss, {input_X: X_val_flat, input_y: y_val_oh}))\n",
    "# Validation accuracy for MLP\n",
    "grader.set_answer(\"rE763\", accuracy_score(y_val, s.run(classes, {input_X: X_val_flat})))"
   ]
  },
  {
   "cell_type": "code",
   "execution_count": 15,
   "metadata": {},
   "outputs": [
    {
     "name": "stdout",
     "output_type": "stream",
     "text": [
      "Submitted to Coursera platform. See results on assignment page!\n"
     ]
    }
   ],
   "source": [
    "# you can make submission with answers so far to check yourself at this stage\n",
    "grader.submit(COURSERA_EMAIL, COURSERA_TOKEN)"
   ]
  }
 ],
 "metadata": {
  "kernelspec": {
   "display_name": "Python 3",
   "language": "python",
   "name": "python3"
  },
  "language_info": {
   "codemirror_mode": {
    "name": "ipython",
    "version": 3
   },
   "file_extension": ".py",
   "mimetype": "text/x-python",
   "name": "python",
   "nbconvert_exporter": "python",
   "pygments_lexer": "ipython3",
   "version": "3.5.2"
  }
 },
 "nbformat": 4,
 "nbformat_minor": 1
}
